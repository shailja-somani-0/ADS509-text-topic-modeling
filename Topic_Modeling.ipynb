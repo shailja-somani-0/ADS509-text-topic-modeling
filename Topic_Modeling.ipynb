{
  "cells": [
    {
      "cell_type": "markdown",
      "id": "bce2bb89",
      "metadata": {
        "id": "bce2bb89"
      },
      "source": [
        "# ADS 509 Assignment 5.1: Topic Modeling\n",
        "\n",
        "Shailja Somani\\\n",
        "ADS 509 Summer 2024\\\n",
        "June 2, 2024\n",
        "\n",
        "This notebook holds Assignment 5.1 for Module 5 in ADS 509, Applied Text Mining. Work through this notebook, writing code and answering questions where required.\n",
        "\n",
        "In this assignment you will work with a categorical corpus that accompanies `nltk`. You will build the three types of topic models described in Chapter 8 of _Blueprints for Text Analytics using Python_: NMF, LSA, and LDA. You will compare these models to the true categories.\n"
      ]
    },
    {
      "cell_type": "code",
      "execution_count": 4,
      "id": "623da72b",
      "metadata": {
        "colab": {
          "base_uri": "https://localhost:8080/"
        },
        "id": "623da72b",
        "outputId": "6a387a4d-3a43-434e-8621-32c58ae8c102"
      },
      "outputs": [
        {
          "output_type": "stream",
          "name": "stdout",
          "text": [
            "Collecting pyLDAvis==3.4.1\n",
            "  Downloading pyLDAvis-3.4.1-py3-none-any.whl (2.6 MB)\n",
            "\u001b[2K     \u001b[90m━━━━━━━━━━━━━━━━━━━━━━━━━━━━━━━━━━━━━━━━\u001b[0m \u001b[32m2.6/2.6 MB\u001b[0m \u001b[31m3.7 MB/s\u001b[0m eta \u001b[36m0:00:00\u001b[0m\n",
            "\u001b[?25hRequirement already satisfied: numpy>=1.24.2 in /usr/local/lib/python3.10/dist-packages (from pyLDAvis==3.4.1) (1.25.2)\n",
            "Requirement already satisfied: scipy in /usr/local/lib/python3.10/dist-packages (from pyLDAvis==3.4.1) (1.11.4)\n",
            "Requirement already satisfied: pandas>=2.0.0 in /usr/local/lib/python3.10/dist-packages (from pyLDAvis==3.4.1) (2.0.3)\n",
            "Requirement already satisfied: joblib>=1.2.0 in /usr/local/lib/python3.10/dist-packages (from pyLDAvis==3.4.1) (1.4.2)\n",
            "Requirement already satisfied: jinja2 in /usr/local/lib/python3.10/dist-packages (from pyLDAvis==3.4.1) (3.1.4)\n",
            "Requirement already satisfied: numexpr in /usr/local/lib/python3.10/dist-packages (from pyLDAvis==3.4.1) (2.10.0)\n",
            "Collecting funcy (from pyLDAvis==3.4.1)\n",
            "  Downloading funcy-2.0-py2.py3-none-any.whl (30 kB)\n",
            "Requirement already satisfied: scikit-learn>=1.0.0 in /usr/local/lib/python3.10/dist-packages (from pyLDAvis==3.4.1) (1.2.2)\n",
            "Requirement already satisfied: gensim in /usr/local/lib/python3.10/dist-packages (from pyLDAvis==3.4.1) (4.3.2)\n",
            "Requirement already satisfied: setuptools in /usr/local/lib/python3.10/dist-packages (from pyLDAvis==3.4.1) (67.7.2)\n",
            "Requirement already satisfied: python-dateutil>=2.8.2 in /usr/local/lib/python3.10/dist-packages (from pandas>=2.0.0->pyLDAvis==3.4.1) (2.8.2)\n",
            "Requirement already satisfied: pytz>=2020.1 in /usr/local/lib/python3.10/dist-packages (from pandas>=2.0.0->pyLDAvis==3.4.1) (2023.4)\n",
            "Requirement already satisfied: tzdata>=2022.1 in /usr/local/lib/python3.10/dist-packages (from pandas>=2.0.0->pyLDAvis==3.4.1) (2024.1)\n",
            "Requirement already satisfied: threadpoolctl>=2.0.0 in /usr/local/lib/python3.10/dist-packages (from scikit-learn>=1.0.0->pyLDAvis==3.4.1) (3.5.0)\n",
            "Requirement already satisfied: smart-open>=1.8.1 in /usr/local/lib/python3.10/dist-packages (from gensim->pyLDAvis==3.4.1) (6.4.0)\n",
            "Requirement already satisfied: MarkupSafe>=2.0 in /usr/local/lib/python3.10/dist-packages (from jinja2->pyLDAvis==3.4.1) (2.1.5)\n",
            "Requirement already satisfied: six>=1.5 in /usr/local/lib/python3.10/dist-packages (from python-dateutil>=2.8.2->pandas>=2.0.0->pyLDAvis==3.4.1) (1.16.0)\n",
            "Installing collected packages: funcy, pyLDAvis\n",
            "Successfully installed funcy-2.0 pyLDAvis-3.4.1\n"
          ]
        }
      ],
      "source": [
        "!pip install pyLDAvis==3.4.1 --user"
      ]
    },
    {
      "cell_type": "code",
      "execution_count": 47,
      "id": "b4277e0a",
      "metadata": {
        "colab": {
          "base_uri": "https://localhost:8080/",
          "height": 35
        },
        "id": "b4277e0a",
        "outputId": "975c134d-3a63-4ff7-f936-d2a3da913155"
      },
      "outputs": [
        {
          "output_type": "execute_result",
          "data": {
            "text/plain": [
              "'3.10.12 (main, Nov 20 2023, 15:14:05) [GCC 11.4.0]'"
            ],
            "application/vnd.google.colaboratory.intrinsic+json": {
              "type": "string"
            }
          },
          "metadata": {},
          "execution_count": 47
        }
      ],
      "source": [
        "# Check Python version\n",
        "import sys\n",
        "sys.version"
      ]
    },
    {
      "cell_type": "code",
      "execution_count": 48,
      "id": "a85bce08",
      "metadata": {
        "id": "a85bce08"
      },
      "outputs": [],
      "source": [
        "# These libraries may be useful to you\n",
        "\n",
        "from nltk.corpus import brown\n",
        "\n",
        "import numpy as np\n",
        "import pandas as pd\n",
        "from tqdm.auto import tqdm\n",
        "\n",
        "import pyLDAvis\n",
        "import pyLDAvis.lda_model\n",
        "import pyLDAvis.gensim_models\n",
        "\n",
        "import spacy\n",
        "from sklearn.feature_extraction.text import TfidfVectorizer, CountVectorizer\n",
        "from sklearn.decomposition import NMF, TruncatedSVD, LatentDirichletAllocation\n",
        "\n",
        "from spacy.lang.en.stop_words import STOP_WORDS as stopwords\n",
        "import en_core_web_sm\n",
        "\n",
        "from collections import Counter, defaultdict\n",
        "\n",
        "nlp = en_core_web_sm.load()"
      ]
    },
    {
      "cell_type": "code",
      "execution_count": 49,
      "id": "a218df60",
      "metadata": {
        "colab": {
          "base_uri": "https://localhost:8080/"
        },
        "id": "a218df60",
        "outputId": "0549dd85-dfc7-4b9e-d69a-4258c69b359f"
      },
      "outputs": [
        {
          "output_type": "stream",
          "name": "stderr",
          "text": [
            "[nltk_data] Downloading package brown to /root/nltk_data...\n",
            "[nltk_data]   Package brown is already up-to-date!\n"
          ]
        },
        {
          "output_type": "execute_result",
          "data": {
            "text/plain": [
              "True"
            ]
          },
          "metadata": {},
          "execution_count": 49
        }
      ],
      "source": [
        "# add any additional libaries you need here\n",
        "# Hide warnings for cleanliness before knitting to PDF\n",
        "import warnings\n",
        "warnings.filterwarnings('ignore')\n",
        "\n",
        "# brown.categories was not working properly, so manually downloading Brown corpus\n",
        "import nltk\n",
        "nltk.download('brown')"
      ]
    },
    {
      "cell_type": "code",
      "execution_count": 4,
      "id": "494de237",
      "metadata": {
        "id": "494de237"
      },
      "outputs": [],
      "source": [
        "# This function comes from the BTAP repo.\n",
        "\n",
        "def display_topics(model, features, no_top_words=5):\n",
        "    for topic, words in enumerate(model.components_):\n",
        "        total = words.sum()\n",
        "        largest = words.argsort()[::-1] # invert sort order\n",
        "        print(\"\\nTopic %02d\" % topic)\n",
        "        for i in range(0, no_top_words):\n",
        "            print(\"  %s (%2.2f)\" % (features[largest[i]], abs(words[largest[i]]*100.0/total)))"
      ]
    },
    {
      "cell_type": "markdown",
      "id": "a30a901c",
      "metadata": {
        "id": "a30a901c"
      },
      "source": [
        "## Getting to Know the Brown Corpus\n",
        "\n",
        "Let's spend a bit of time getting to know what's in the Brown corpus, our NLTK example of an \"overlapping\" corpus."
      ]
    },
    {
      "cell_type": "code",
      "execution_count": 5,
      "id": "457c59ed",
      "metadata": {
        "colab": {
          "base_uri": "https://localhost:8080/"
        },
        "id": "457c59ed",
        "outputId": "4ee0b04b-fd57-4d86-9e0c-fc2e308818ee"
      },
      "outputs": [
        {
          "output_type": "stream",
          "name": "stdout",
          "text": [
            "For adventure we have 29 articles.\n",
            "For belles_lettres we have 75 articles.\n",
            "For editorial we have 27 articles.\n",
            "For fiction we have 29 articles.\n",
            "For government we have 30 articles.\n",
            "For hobbies we have 36 articles.\n",
            "For humor we have 9 articles.\n",
            "For learned we have 80 articles.\n",
            "For lore we have 48 articles.\n",
            "For mystery we have 24 articles.\n",
            "For news we have 44 articles.\n",
            "For religion we have 17 articles.\n",
            "For reviews we have 17 articles.\n",
            "For romance we have 29 articles.\n",
            "For science_fiction we have 6 articles.\n"
          ]
        }
      ],
      "source": [
        "# categories of articles in Brown corpus\n",
        "for category in brown.categories() :\n",
        "    print(f\"For {category} we have {len(brown.fileids(categories=category))} articles.\")"
      ]
    },
    {
      "cell_type": "markdown",
      "id": "23fb133c",
      "metadata": {
        "id": "23fb133c"
      },
      "source": [
        "Let's create a dataframe of the articles in of hobbies, editorial, government, news, and romance."
      ]
    },
    {
      "cell_type": "code",
      "execution_count": 6,
      "id": "18f50b9d",
      "metadata": {
        "colab": {
          "base_uri": "https://localhost:8080/"
        },
        "id": "18f50b9d",
        "outputId": "e1302533-54f3-4ab1-d594-100ecb7bfa12"
      },
      "outputs": [
        {
          "output_type": "execute_result",
          "data": {
            "text/plain": [
              "(166, 3)"
            ]
          },
          "metadata": {},
          "execution_count": 6
        }
      ],
      "source": [
        "categories = ['editorial','government','news','romance','hobbies']\n",
        "\n",
        "category_list = []\n",
        "file_ids = []\n",
        "texts = []\n",
        "\n",
        "for category in categories :\n",
        "    for file_id in brown.fileids(categories=category) :\n",
        "\n",
        "        # build some lists for a dataframe\n",
        "        category_list.append(category)\n",
        "        file_ids.append(file_id)\n",
        "\n",
        "        text = brown.words(fileids=file_id)\n",
        "        texts.append(\" \".join(text))\n",
        "\n",
        "df = pd.DataFrame()\n",
        "df['category'] = category_list\n",
        "df['id'] = file_ids\n",
        "df['text'] = texts\n",
        "\n",
        "df.shape"
      ]
    },
    {
      "cell_type": "code",
      "execution_count": 7,
      "id": "586f47de",
      "metadata": {
        "id": "586f47de"
      },
      "outputs": [],
      "source": [
        "# Let's add some helpful columns on the df\n",
        "df['char_len'] = df['text'].apply(len)\n",
        "df['word_len'] = df['text'].apply(lambda x: len(x.split()))"
      ]
    },
    {
      "cell_type": "code",
      "execution_count": 8,
      "id": "2128fd2d",
      "metadata": {
        "colab": {
          "base_uri": "https://localhost:8080/",
          "height": 630
        },
        "id": "2128fd2d",
        "outputId": "062a0e34-5427-45e3-d029-b9b972ff9f73"
      },
      "outputs": [
        {
          "output_type": "execute_result",
          "data": {
            "text/plain": [
              "<Axes: xlabel='category'>"
            ]
          },
          "metadata": {},
          "execution_count": 8
        },
        {
          "output_type": "display_data",
          "data": {
            "text/plain": [
              "<Figure size 1000x600 with 1 Axes>"
            ],
            "image/png": "[encoded data removed]"
          },
          "metadata": {}
        }
      ],
      "source": [
        "%matplotlib inline\n",
        "df.groupby('category').agg({'word_len': 'mean'}).plot.bar(figsize=(10,6))"
      ]
    },
    {
      "cell_type": "markdown",
      "id": "554ffeb5",
      "metadata": {
        "id": "554ffeb5"
      },
      "source": [
        "Now do our TF-IDF and Count vectorizations."
      ]
    },
    {
      "cell_type": "code",
      "execution_count": 9,
      "id": "21a7d247",
      "metadata": {
        "colab": {
          "base_uri": "https://localhost:8080/"
        },
        "id": "21a7d247",
        "outputId": "1280dd56-7e08-40c7-89c8-474f5c885b14"
      },
      "outputs": [
        {
          "output_type": "execute_result",
          "data": {
            "text/plain": [
              "(166, 4941)"
            ]
          },
          "metadata": {},
          "execution_count": 9
        }
      ],
      "source": [
        "count_text_vectorizer = CountVectorizer(stop_words=list(stopwords), min_df=5, max_df=0.7)\n",
        "count_text_vectors = count_text_vectorizer.fit_transform(df[\"text\"])\n",
        "count_text_vectors.shape"
      ]
    },
    {
      "cell_type": "code",
      "execution_count": 10,
      "id": "875deba9",
      "metadata": {
        "colab": {
          "base_uri": "https://localhost:8080/"
        },
        "id": "875deba9",
        "outputId": "65d46050-ead7-451d-f2f8-e50798cf8515"
      },
      "outputs": [
        {
          "output_type": "execute_result",
          "data": {
            "text/plain": [
              "(166, 4941)"
            ]
          },
          "metadata": {},
          "execution_count": 10
        }
      ],
      "source": [
        "tfidf_text_vectorizer = TfidfVectorizer(stop_words=list(stopwords), min_df=5, max_df=0.7)\n",
        "tfidf_text_vectors = tfidf_text_vectorizer.fit_transform(df['text'])\n",
        "tfidf_text_vectors.shape"
      ]
    },
    {
      "cell_type": "markdown",
      "id": "a1062b21",
      "metadata": {
        "id": "a1062b21"
      },
      "source": [
        "Q: What do the two data frames `count_text_vectors` and `tfidf_text_vectors` hold?\n",
        "\n",
        "A: The two dataframes `count_text_vectors` and `tfidf_text_vectors` both contain numerical feature representations of the documents in the Brown corpus, but with the features weighted in two different ways. The resulting dataframes/matrices have the exact same shape because both have a row for each document within the corpus and a column for how each word is counted/weighted after each method's data processing.\n",
        "Prior to word/feature weighting, both methods remove stop words, filter down to words that appear in at least 5 documents, and filter down to words that appear in no more than 70% of the documents (to eliminate very common words that would not help distinguish between documents/categories). Following that, the `count_text_vectors` dataframe simply contains the raw count/frequency of number of times a word appears in each document. On the other hand, the `tfidf_text_vectors` applies TF-IDF so that words with a high frequency in one document and low frequency in others will be weighted higher than a word that has a similar frequency across all documents (as these words would help distinguish different documents better)."
      ]
    },
    {
      "cell_type": "markdown",
      "id": "f77c3f94",
      "metadata": {
        "id": "f77c3f94"
      },
      "source": [
        "## Fitting a Non-Negative Matrix Factorization Model\n",
        "\n",
        "In this section the code to fit a five-topic NMF model has already been written. This code comes directly from the [BTAP repo](https://github.com/blueprints-for-text-analytics-python/blueprints-text), which will help you tremendously in the coming sections."
      ]
    },
    {
      "cell_type": "code",
      "execution_count": 11,
      "id": "d28745a3",
      "metadata": {
        "id": "d28745a3"
      },
      "outputs": [],
      "source": [
        "nmf_text_model = NMF(n_components=5, random_state=314)\n",
        "W_text_matrix = nmf_text_model.fit_transform(tfidf_text_vectors)\n",
        "H_text_matrix = nmf_text_model.components_"
      ]
    },
    {
      "cell_type": "code",
      "execution_count": 12,
      "id": "a67185e7",
      "metadata": {
        "colab": {
          "base_uri": "https://localhost:8080/"
        },
        "id": "a67185e7",
        "outputId": "1b34142c-e964-438c-d72b-8b3f509df695"
      },
      "outputs": [
        {
          "output_type": "stream",
          "name": "stdout",
          "text": [
            "\n",
            "Topic 00\n",
            "  mr (0.51)\n",
            "  president (0.45)\n",
            "  kennedy (0.43)\n",
            "  united (0.42)\n",
            "  khrushchev (0.40)\n",
            "\n",
            "Topic 01\n",
            "  said (0.88)\n",
            "  didn (0.46)\n",
            "  ll (0.45)\n",
            "  thought (0.42)\n",
            "  man (0.37)\n",
            "\n",
            "Topic 02\n",
            "  state (0.39)\n",
            "  development (0.36)\n",
            "  tax (0.33)\n",
            "  sales (0.30)\n",
            "  program (0.25)\n",
            "\n",
            "Topic 03\n",
            "  mrs (2.61)\n",
            "  mr (0.78)\n",
            "  said (0.63)\n",
            "  miss (0.52)\n",
            "  car (0.51)\n",
            "\n",
            "Topic 04\n",
            "  game (1.02)\n",
            "  league (0.74)\n",
            "  ball (0.72)\n",
            "  baseball (0.71)\n",
            "  team (0.66)\n"
          ]
        }
      ],
      "source": [
        "display_topics(nmf_text_model, tfidf_text_vectorizer.get_feature_names_out())"
      ]
    },
    {
      "cell_type": "markdown",
      "id": "fee51e9b",
      "metadata": {
        "id": "fee51e9b"
      },
      "source": [
        "Now some work for you to do. Compare the NMF categorization to the original categories from the Brown Corpus.\n",
        "\n",
        "We are interested in the extent to which our NMF categorization agrees or disagrees with the original categories in the corpus. For each topic in your NMF model, tally the Brown categories and interpret the results.\n"
      ]
    },
    {
      "cell_type": "code",
      "execution_count": 17,
      "id": "7c8c8eb0",
      "metadata": {
        "colab": {
          "base_uri": "https://localhost:8080/",
          "height": 206
        },
        "id": "7c8c8eb0",
        "outputId": "eb7df833-8159-472e-d56c-754f20bb2392"
      },
      "outputs": [
        {
          "output_type": "execute_result",
          "data": {
            "text/plain": [
              "    category    id                                               text  \\\n",
              "0  editorial  cb01  Assembly session brought much good The General...   \n",
              "1  editorial  cb02  Must Berlin remain divided ? ? The inference h...   \n",
              "2  editorial  cb03  A good man departs . Goodby , Mr. Sam . Sam Ra...   \n",
              "3  editorial  cb04  A shock wave from Africa Word of Dag Hammarskj...   \n",
              "4  editorial  cb05  Help when needed If the Dominican Republic ach...   \n",
              "\n",
              "   char_len  word_len  NMF_dominant_topic  nmf_dominant_topic  \n",
              "0     12659      2200                   2                   2  \n",
              "1     12544      2234                   0                   0  \n",
              "2     11871      2244                   0                   0  \n",
              "3     12284      2230                   0                   0  \n",
              "4     12479      2241                   0                   0  "
            ],
            "text/html": [
              "\n",
              "  <div id=\"df-2205f185-22b4-467a-88ee-d95260ac3de6\" class=\"colab-df-container\">\n",
              "    <div>\n",
              "<style scoped>\n",
              "    .dataframe tbody tr th:only-of-type {\n",
              "        vertical-align: middle;\n",
              "    }\n",
              "\n",
              "    .dataframe tbody tr th {\n",
              "        vertical-align: top;\n",
              "    }\n",
              "\n",
              "    .dataframe thead th {\n",
              "        text-align: right;\n",
              "    }\n",
              "</style>\n",
              "<table border=\"1\" class=\"dataframe\">\n",
              "  <thead>\n",
              "    <tr style=\"text-align: right;\">\n",
              "      <th></th>\n",
              "      <th>category</th>\n",
              "      <th>id</th>\n",
              "      <th>text</th>\n",
              "      <th>char_len</th>\n",
              "      <th>word_len</th>\n",
              "      <th>NMF_dominant_topic</th>\n",
              "      <th>nmf_dominant_topic</th>\n",
              "    </tr>\n",
              "  </thead>\n",
              "  <tbody>\n",
              "    <tr>\n",
              "      <th>0</th>\n",
              "      <td>editorial</td>\n",
              "      <td>cb01</td>\n",
              "      <td>Assembly session brought much good The General...</td>\n",
              "      <td>12659</td>\n",
              "      <td>2200</td>\n",
              "      <td>2</td>\n",
              "      <td>2</td>\n",
              "    </tr>\n",
              "    <tr>\n",
              "      <th>1</th>\n",
              "      <td>editorial</td>\n",
              "      <td>cb02</td>\n",
              "      <td>Must Berlin remain divided ? ? The inference h...</td>\n",
              "      <td>12544</td>\n",
              "      <td>2234</td>\n",
              "      <td>0</td>\n",
              "      <td>0</td>\n",
              "    </tr>\n",
              "    <tr>\n",
              "      <th>2</th>\n",
              "      <td>editorial</td>\n",
              "      <td>cb03</td>\n",
              "      <td>A good man departs . Goodby , Mr. Sam . Sam Ra...</td>\n",
              "      <td>11871</td>\n",
              "      <td>2244</td>\n",
              "      <td>0</td>\n",
              "      <td>0</td>\n",
              "    </tr>\n",
              "    <tr>\n",
              "      <th>3</th>\n",
              "      <td>editorial</td>\n",
              "      <td>cb04</td>\n",
              "      <td>A shock wave from Africa Word of Dag Hammarskj...</td>\n",
              "      <td>12284</td>\n",
              "      <td>2230</td>\n",
              "      <td>0</td>\n",
              "      <td>0</td>\n",
              "    </tr>\n",
              "    <tr>\n",
              "      <th>4</th>\n",
              "      <td>editorial</td>\n",
              "      <td>cb05</td>\n",
              "      <td>Help when needed If the Dominican Republic ach...</td>\n",
              "      <td>12479</td>\n",
              "      <td>2241</td>\n",
              "      <td>0</td>\n",
              "      <td>0</td>\n",
              "    </tr>\n",
              "  </tbody>\n",
              "</table>\n",
              "</div>\n",
              "    <div class=\"colab-df-buttons\">\n",
              "\n",
              "  <div class=\"colab-df-container\">\n",
              "    <button class=\"colab-df-convert\" onclick=\"convertToInteractive('df-2205f185-22b4-467a-88ee-d95260ac3de6')\"\n",
              "            title=\"Convert this dataframe to an interactive table.\"\n",
              "            style=\"display:none;\">\n",
              "\n",
              "  <svg xmlns=\"http://www.w3.org/2000/svg\" height=\"24px\" viewBox=\"0 -960 960 960\">\n",
              "    <path d=\"M120-120v-720h720v720H120Zm60-500h600v-160H180v160Zm220 220h160v-160H400v160Zm0 220h160v-160H400v160ZM180-400h160v-160H180v160Zm440 0h160v-160H620v160ZM180-180h160v-160H180v160Zm440 0h160v-160H620v160Z\"/>\n",
              "  </svg>\n",
              "    </button>\n",
              "\n",
              "  <style>\n",
              "    .colab-df-container {\n",
              "      display:flex;\n",
              "      gap: 12px;\n",
              "    }\n",
              "\n",
              "    .colab-df-convert {\n",
              "      background-color: #E8F0FE;\n",
              "      border: none;\n",
              "      border-radius: 50%;\n",
              "      cursor: pointer;\n",
              "      display: none;\n",
              "      fill: #1967D2;\n",
              "      height: 32px;\n",
              "      padding: 0 0 0 0;\n",
              "      width: 32px;\n",
              "    }\n",
              "\n",
              "    .colab-df-convert:hover {\n",
              "      background-color: #E2EBFA;\n",
              "      box-shadow: 0px 1px 2px rgba(60, 64, 67, 0.3), 0px 1px 3px 1px rgba(60, 64, 67, 0.15);\n",
              "      fill: #174EA6;\n",
              "    }\n",
              "\n",
              "    .colab-df-buttons div {\n",
              "      margin-bottom: 4px;\n",
              "    }\n",
              "\n",
              "    [theme=dark] .colab-df-convert {\n",
              "      background-color: #3B4455;\n",
              "      fill: #D2E3FC;\n",
              "    }\n",
              "\n",
              "    [theme=dark] .colab-df-convert:hover {\n",
              "      background-color: #434B5C;\n",
              "      box-shadow: 0px 1px 3px 1px rgba(0, 0, 0, 0.15);\n",
              "      filter: drop-shadow(0px 1px 2px rgba(0, 0, 0, 0.3));\n",
              "      fill: #FFFFFF;\n",
              "    }\n",
              "  </style>\n",
              "\n",
              "    <script>\n",
              "      const buttonEl =\n",
              "        document.querySelector('#df-2205f185-22b4-467a-88ee-d95260ac3de6 button.colab-df-convert');\n",
              "      buttonEl.style.display =\n",
              "        google.colab.kernel.accessAllowed ? 'block' : 'none';\n",
              "\n",
              "      async function convertToInteractive(key) {\n",
              "        const element = document.querySelector('#df-2205f185-22b4-467a-88ee-d95260ac3de6');\n",
              "        const dataTable =\n",
              "          await google.colab.kernel.invokeFunction('convertToInteractive',\n",
              "                                                    [key], {});\n",
              "        if (!dataTable) return;\n",
              "\n",
              "        const docLinkHtml = 'Like what you see? Visit the ' +\n",
              "          '<a target=\"_blank\" href=https://colab.research.google.com/notebooks/data_table.ipynb>data table notebook</a>'\n",
              "          + ' to learn more about interactive tables.';\n",
              "        element.innerHTML = '';\n",
              "        dataTable['output_type'] = 'display_data';\n",
              "        await google.colab.output.renderOutput(dataTable, element);\n",
              "        const docLink = document.createElement('div');\n",
              "        docLink.innerHTML = docLinkHtml;\n",
              "        element.appendChild(docLink);\n",
              "      }\n",
              "    </script>\n",
              "  </div>\n",
              "\n",
              "\n",
              "<div id=\"df-97fe38ab-3a2c-4380-8f39-3e8e485d3b86\">\n",
              "  <button class=\"colab-df-quickchart\" onclick=\"quickchart('df-97fe38ab-3a2c-4380-8f39-3e8e485d3b86')\"\n",
              "            title=\"Suggest charts\"\n",
              "            style=\"display:none;\">\n",
              "\n",
              "<svg xmlns=\"http://www.w3.org/2000/svg\" height=\"24px\"viewBox=\"0 0 24 24\"\n",
              "     width=\"24px\">\n",
              "    <g>\n",
              "        <path d=\"M19 3H5c-1.1 0-2 .9-2 2v14c0 1.1.9 2 2 2h14c1.1 0 2-.9 2-2V5c0-1.1-.9-2-2-2zM9 17H7v-7h2v7zm4 0h-2V7h2v10zm4 0h-2v-4h2v4z\"/>\n",
              "    </g>\n",
              "</svg>\n",
              "  </button>\n",
              "\n",
              "<style>\n",
              "  .colab-df-quickchart {\n",
              "      --bg-color: #E8F0FE;\n",
              "      --fill-color: #1967D2;\n",
              "      --hover-bg-color: #E2EBFA;\n",
              "      --hover-fill-color: #174EA6;\n",
              "      --disabled-fill-color: #AAA;\n",
              "      --disabled-bg-color: #DDD;\n",
              "  }\n",
              "\n",
              "  [theme=dark] .colab-df-quickchart {\n",
              "      --bg-color: #3B4455;\n",
              "      --fill-color: #D2E3FC;\n",
              "      --hover-bg-color: #434B5C;\n",
              "      --hover-fill-color: #FFFFFF;\n",
              "      --disabled-bg-color: #3B4455;\n",
              "      --disabled-fill-color: #666;\n",
              "  }\n",
              "\n",
              "  .colab-df-quickchart {\n",
              "    background-color: var(--bg-color);\n",
              "    border: none;\n",
              "    border-radius: 50%;\n",
              "    cursor: pointer;\n",
              "    display: none;\n",
              "    fill: var(--fill-color);\n",
              "    height: 32px;\n",
              "    padding: 0;\n",
              "    width: 32px;\n",
              "  }\n",
              "\n",
              "  .colab-df-quickchart:hover {\n",
              "    background-color: var(--hover-bg-color);\n",
              "    box-shadow: 0 1px 2px rgba(60, 64, 67, 0.3), 0 1px 3px 1px rgba(60, 64, 67, 0.15);\n",
              "    fill: var(--button-hover-fill-color);\n",
              "  }\n",
              "\n",
              "  .colab-df-quickchart-complete:disabled,\n",
              "  .colab-df-quickchart-complete:disabled:hover {\n",
              "    background-color: var(--disabled-bg-color);\n",
              "    fill: var(--disabled-fill-color);\n",
              "    box-shadow: none;\n",
              "  }\n",
              "\n",
              "  .colab-df-spinner {\n",
              "    border: 2px solid var(--fill-color);\n",
              "    border-color: transparent;\n",
              "    border-bottom-color: var(--fill-color);\n",
              "    animation:\n",
              "      spin 1s steps(1) infinite;\n",
              "  }\n",
              "\n",
              "  @keyframes spin {\n",
              "    0% {\n",
              "      border-color: transparent;\n",
              "      border-bottom-color: var(--fill-color);\n",
              "      border-left-color: var(--fill-color);\n",
              "    }\n",
              "    20% {\n",
              "      border-color: transparent;\n",
              "      border-left-color: var(--fill-color);\n",
              "      border-top-color: var(--fill-color);\n",
              "    }\n",
              "    30% {\n",
              "      border-color: transparent;\n",
              "      border-left-color: var(--fill-color);\n",
              "      border-top-color: var(--fill-color);\n",
              "      border-right-color: var(--fill-color);\n",
              "    }\n",
              "    40% {\n",
              "      border-color: transparent;\n",
              "      border-right-color: var(--fill-color);\n",
              "      border-top-color: var(--fill-color);\n",
              "    }\n",
              "    60% {\n",
              "      border-color: transparent;\n",
              "      border-right-color: var(--fill-color);\n",
              "    }\n",
              "    80% {\n",
              "      border-color: transparent;\n",
              "      border-right-color: var(--fill-color);\n",
              "      border-bottom-color: var(--fill-color);\n",
              "    }\n",
              "    90% {\n",
              "      border-color: transparent;\n",
              "      border-bottom-color: var(--fill-color);\n",
              "    }\n",
              "  }\n",
              "</style>\n",
              "\n",
              "  <script>\n",
              "    async function quickchart(key) {\n",
              "      const quickchartButtonEl =\n",
              "        document.querySelector('#' + key + ' button');\n",
              "      quickchartButtonEl.disabled = true;  // To prevent multiple clicks.\n",
              "      quickchartButtonEl.classList.add('colab-df-spinner');\n",
              "      try {\n",
              "        const charts = await google.colab.kernel.invokeFunction(\n",
              "            'suggestCharts', [key], {});\n",
              "      } catch (error) {\n",
              "        console.error('Error during call to suggestCharts:', error);\n",
              "      }\n",
              "      quickchartButtonEl.classList.remove('colab-df-spinner');\n",
              "      quickchartButtonEl.classList.add('colab-df-quickchart-complete');\n",
              "    }\n",
              "    (() => {\n",
              "      let quickchartButtonEl =\n",
              "        document.querySelector('#df-97fe38ab-3a2c-4380-8f39-3e8e485d3b86 button');\n",
              "      quickchartButtonEl.style.display =\n",
              "        google.colab.kernel.accessAllowed ? 'block' : 'none';\n",
              "    })();\n",
              "  </script>\n",
              "</div>\n",
              "\n",
              "    </div>\n",
              "  </div>\n"
            ],
            "application/vnd.google.colaboratory.intrinsic+json": {
              "type": "dataframe",
              "variable_name": "df",
              "summary": "{\n  \"name\": \"df\",\n  \"rows\": 166,\n  \"fields\": [\n    {\n      \"column\": \"category\",\n      \"properties\": {\n        \"dtype\": \"category\",\n        \"num_unique_values\": 5,\n        \"samples\": [\n          \"government\",\n          \"hobbies\",\n          \"news\"\n        ],\n        \"semantic_type\": \"\",\n        \"description\": \"\"\n      }\n    },\n    {\n      \"column\": \"id\",\n      \"properties\": {\n        \"dtype\": \"string\",\n        \"num_unique_values\": 166,\n        \"samples\": [\n          \"ca44\",\n          \"ce07\",\n          \"ca22\"\n        ],\n        \"semantic_type\": \"\",\n        \"description\": \"\"\n      }\n    },\n    {\n      \"column\": \"text\",\n      \"properties\": {\n        \"dtype\": \"string\",\n        \"num_unique_values\": 166,\n        \"samples\": [\n          \"Every library borrower , or at least those whose taste goes beyond the five-cent fiction rentals , knows what it is to hear the librarian say apologetically , `` I'm sorry , but we don't have that book . There wouldn't be much demand for it , I'm afraid '' . Behind this reply , and its many variations , is the ever-present budget problem all libraries must face , from the largest to the smallest . What to buy out of the year's grist of nearly 15,000 book titles ? ? What to buy for adult and child readers , for lovers of fiction and nonfiction , for a clientele whose wants are incredibly diversified , when your budget is pitifully small ? ? Most library budgets are hopelessly inadequate . A startlingly high percentage do not exceed $500 annually , which includes the librarian's salary , and not even the New York Public has enough money to meet its needs -- this in the world's richest city . The plight of a small community library is proportionately worse . Confronted with this situation , most libraries either endure the severe limitations of their budgets and do what they can with what they have , or else depend on the bounty of patrons and local governments to supplement their annual funds . In some parts of the country , however , a co-operative movement has begun to grow , under the wing of state governments , whereby , with the financial help of the state , libraries share their book resources on a county-wide or regional basis . New York State has what is probably the most advanced of these co-operative systems , so well developed that it has become a model for others to follow . Because it is so large a state , with marked contrasts in population density , the organization of the New York co-operative offers a cross-section of how the plan works . At one extreme are the systems of upper New York State , where libraries in two or more counties combine to serve a large , sparsely populated area . At the other are organizations like the newly formed Nassau Library System , in a high-density area , with ample resources and a rapidly growing territory to serve . Both these types , and those in between , are in existence by reason of a legislative interest in libraries that began at Albany as early as 1950 , with the creation by the legislature of county library systems financed by county governments with matching funds from the state . It was a step in the right direction , but it took an additional act passed in 1958 to establish fully the thriving systems of today . Under this law annual grants are given to systems in substantial amounts . An earlier difficulty was overcome by making it clear that individual libraries in any area might join or not , as they saw fit . Some library boards are wary of the plan . A large , well-stocked library , surrounded in a county by smaller ones , may feel that the demands on its resources are likely to be too great . A small library may cherish its independence and established ways , and resist joining in a cooperative movement that sometimes seems radical to older members of the board . Within a system , however , the autonomy of each member library is preserved . The local community maintains responsibility for the financial support of its own library program , facilities , and services , but wider resources and additional services become available through membership in a system . All services are given without cost to members . So obvious are these advantages that nearly 95 per cent of the population of New York State now has access to a system , and enthusiastic librarians foresee the day , not too distant , when all the libraries in the state will belong to a co-op . To set up a co-operative library system , the law requires a central book collection of 100,000 nonfiction volumes as the nucleus , and the system is organized around it . The collection may be in an existing library , or it may be built up in a central collection . Each system develops differently , according to the area it serves , but the universal goal is to pool the resources of a given area for maximum efficiency . The basic state grant is thirty cents for each person served , and there is a further book incentive grant that provides an extra twenty cents up to fifty cents per capita , if a library spends a certain number of dollars . In Nassau County , for example , the heavily settled Long Island suburb of New York City , the system is credited by the state with serving one million persons , a figure that has doubled since 1950 . This system , by virtue of its variety and size , offers an inclusive view of the plan in operation . The Nassau system recognizes that its major task it to broaden reference service , what with the constant expansion of education and knowledge , and the pressure of population growth in a metropolitan area . The need is for reference works of a more specialized nature than individual libraries , adequate to satisfy everyday needs , could afford . Nassau is currently building a central collection of reference materials in its Hempstead headquarters , which will reach its goal of 100,000 volumes by 1965 . The major part of this collection is in the central headquarters building , and the remainder is divided among five libraries in the system designated as subject centers . Basic reference tools are the backbone of the collection , but there is also specialization in science and technology , an indicated weakness in local libraries . On microfilm , headquarters also has a file of the New York Times from its founding in 1851 to the present day , as well as bound volumes of important periodicals . The entire headquarters collection is available to the patrons of all members on interlibrary loans . Headquarters gets about 100 requests every day . It is connected by teletype with the State Library in Albany , which will supply any book to a system that the system itself cannot provide . The books are carried around by truck in canvas bags from headquarters to the other libraries . Each subject center library was chosen because of its demonstrated strength in a particular area , which headquarters could then build upon . East Meadow has philosophy , psychology , and religion ; ; Freeport houses social science , pure science , and language ; ; history , biography , and education are centered in Hempstead ; ; Levittown has applied science , business , and literature ; ; while Hewlett-Woodmere is the repository of art , music , and foreign languages . The reference coordinator at headquarters also serves as a consultant , and is available to work with the local librarian in helping to strengthen local reference service . This kind of cooperation is not wholly new , of course . Public libraries in Nassau County have been lending books to each other by mail for a quarter-century , but the system enables this process to operate on an organized and far more comprehensive basis . Local libraries find , too , that the new plan saves tax dollars because books can be bought through the system , and since the system buys in bulk it is able to obtain larger discounts than would be available to an individual library . The system passes on these savings to its members . Further money is saved through economy in bookkeeping and clerical detail as the result of central billing . Books are not the only resource of the system . Schools and community groups turn to the headquarters film library for documentary , art , and experimental films to show at libraries that sponsor local programs , and to organizations in member communities . The most recent film catalogue , available at each library , lists 110 titles presently in the collection , any of which may be borrowed without charge . This catalogue lists separately films suitable for children , young adults , or adults , although some classics cut across age groups , such as `` Nanook Of The North '' , `` The Emperor's Nightingale '' , and `` The Red Balloon '' . Workshops are conducted by the system's audio-visual consultant for the staffs of member libraries , teaching them the effective use of film as a library service . The system well understands that one of its primary responsibilities is to bring children and books together ; ; consequently an experienced children's librarian at headquarters conducts a guidance program designed to promote well-planned library activities , cooperating with the children's librarians in member libraries by means of individual conferences , workshops , and frequent visits . Headquarters has also set up a central juvenile book-review and book-selection center , to provide better methods of purchasing and selection . Sample copies of new books are on display at headquarters , where librarians may evaluate them by themselves or in workshop groups . Story hours , pre-school programs , activities with community agencies , and lists of recommended reading are all in the province of the children's consultant . Headquarters of the Nassau system is an increasingly busy place these days , threatening to expand beyond its boundaries . In addition to the interlibrary loan service and the children's program , headquarters has a public relations director who seeks to get wider grassroots support for quality library service in the county ; ; it prepares cooperative displays ( posters , booklists , brochures , and other promotional material ) for use in member libraries ; ; it maintains a central exhibit collection to share displays already created and used ; ; and it publishes Sum And Substance , a monthly newsletter , which reports the system's activities to the staffs and trustees of member libraries . The system itself is governed by a board of trustees , geographically representing its membership . In Nassau , as in other systems , the long-range objective is to bring the maximum service of libraries to bear on the schools , and on adult education in general . Librarians , a patient breed of men and women who have borne much with dedication , can begin to see results today . Library use is multiplying daily , and the bulk of the newcomers are those maligned Americans , the teen-agers . To them especially the librarians , with the help of co-ops , hope they will never have to say , `` I'm sorry , we don't have that book '' . Today , more than ever before , the survival of our free society depends upon the citizen who is both informed and concerned . The great advances made in recent years in Communist strength and in our own capacity to destroy require an educated citizenry in the Western world . The need for lifetime reading is apparent . Education must not be limited to our youth but must be a continuing process through our entire lives , for it is only through knowledge that we , as a nation , can cope with the dangers that threaten our society . The desire and ability to read are important aspects of our cultural life . We cannot consider ourselves educated if we do not read ; ; if we are not discriminating in our reading ; ; if we do not know how to use what we do read . We must not permit our society to become a slave to the scientific age , as might well happen without the cultural and spiritual restraint that comes from the development of the human mind through wisdom absorbed from the written word . A fundamental source of knowledge in the world today is the book found in our libraries . Although progress has been made in America's system of libraries it still falls short of what is required if we are to maintain the standards that are needed for an informed America . The problem grows in intensity each year as man's knowledge , and his capacity to translate such knowledge to the written word , continue to expand . The inadequacy of our library system will become critical unless we act vigorously to correct this condition . There are , for example , approximately 25,000,000 people in this country with no public library service and about 50,000,000 with inadequate service . In college libraries , 57 per cent of the total number of books are owned by 124 of 1,509 institutions surveyed last year by the U.S. Office of Education . And over 66 per cent of the elementary schools with 150 or more pupils do not have any library at all . In every aspect of service -- to the public , to children in schools , to colleges and universities -- the library of today is failing to render vitally needed services . Only public understanding and support can provide that service . This is one of the main reasons for National Library Week , April 16-22 , and for its theme : `` For a richer , fuller life , read '' ! !\",\n          \"The design of a mechanical interlocking frame is much like a mechanical puzzle , but once understood , the principles can be applied to any track and signal arrangement . In the frame are two sets of bars which interact with each other to prevent the operator from making dangerous moves . The main set of bars are the `` tappets '' and one tappet is connected to each lever . If the lever is pulled to clear a signal or move a switch , the tappet moves a short distance lengthwise at the same time . Close behind the plane of the tappets are the locking bars . These can also move a short distance but at right angles to the tappets . The number of locking bars required depends on how many false moves must be prevented . In the sides of the tappets are notches with sloping sides , and connection between the tappets and locking bars consist of cams called `` dogs '' . Two or more dogs are mounted on each locking bar . These slide into and out of the notches in the tappets as the tappets are moved , locking and unlocking them . Here's how the scheme works : Suppose the operator pulls the lever to clear a particular signal . This also pulls the tappet connected to the particular lever and forces any dogs seated in the notches to the side , thus moving one or more locking bars . The dogs on the other ends of these locking bars are thus forced into notches in other tappets . By this scheme , pulling one signal to clear locks all the other switch and signal levers in safe positions until the first signal is again restored to normal . Interlocking signals are normally at stop or `` red '' position , and a lever must be pulled to `` clear '' the signal . This is not necessarily to green , however , for in some situations only a yellow indication is given to a train to let it into the `` plant '' . There are other basic rules . A turnout may have two levers , one to actually move the switch points , the other to lock the points . A signal cannot be cleared until all the related turnouts are properly thrown and locked . Such locks are nearly always used where the switch points `` face '' oncoming traffic . The lock insures that the points are thrown all the way with no chance that a wheel flange will snag on a partly thrown point . If the points aren't thrown all the way , the Turnout cannot be locked , and in turn , the signal cannot be cleared . Generally , these locks on turnouts are called `` facing point locks '' . Figs. 1-6 show typical arrangements of track and signals . Each diagram is accompanied by a `` dog chart '' , a list of the levers that show which other levers any particular lever will lock if pulled . The lines connecting the wedge-shaped dogs represent the locking bars at right angles to the tappet bars . By studying the track-signal diagrams you'll note several other details . Derails -- mechanical track devices that actually guide the wheels off the rails if a train passes a `` stop '' signal -- are used in many instances . `` Home '' signals have two blades . The blacked-in blades indicate a fixed aspect -- the blade does not move . As an engineer approaches the plant the position of the home signal is seen in advance when he passes the `` distant '' signal located beyond the limits of the interlocking plant . In some low-speed situations , the distant signal is fixed at caution . In other instances where there is no automatic block signaling , the distant has only green and yellow aspects . So much for the prototype . The interlocking frame we built at the model railroader workshop and then installed on Paul Larson's railroad follows the Fig. 1 scheme and is shown beginning in Fig. 7 , page 65 , and in the photos . Here's how it can be built . Frame The sizes of pieces needed for the interlocking frame are shown in the notes within Fig. 7 , most of the bars being 1/8'' '' brass in 1/4'' '' and 1/2'' '' widths . You may change the dimensions to suit a frame for more or fewer levers and locks as you wish . Our instructions assume you are building this particular frame , which is for a junction . When cutting the pieces , dress the ends smooth , and square with a smooth file or sanding disk . Start with the right-hand piece `` B '' , Af , soldering it to the lower piece `` A '' of the same material but 12'' '' long . Let exactly 1'' '' of `` A '' extend beyond `` B '' and use a square to check your angle to exactly 90 degrees . Now lay 12 pieces of Af cut 5-3/4'' '' long side by side but separated by 12 pieces of the same material 1/2'' '' sq. . This gives you the spacing for locating the left-hand piece `` B '' . Compress the assembly when you make the mark to show the location for `` B '' . Solder this second `` B '' to `` A '' at right angles . There should be 10'' '' between the two parallel members and each should be 1'' '' from an end of the long piece . Cap this assembly ( with spacing bars in place ) with a Af bar . Tack-solder all the 1/2'' '' sq. pieces to the 10'' '' and 12'' '' members . These will be drilled and tapped later on . Now cut five Af locking bar spacers ( which run horizontally ) . Position these using six intermediate temporary Af spacers and locate the upper 12'' '' bar `` A '' . Solder it and the five locking bar spacers to the frame . Now place 12 pieces 1/2'' '' sq. on this edge as we did before and space them with the 5-3/4'' '' long `` tappets '' , as they are called . Cap with a Af bar and tack-solder in place . Cap the locking bar spacers with two Af directly under the first two `` B '' pieces . Remove all the loose spacing bars . Mark and center-punch all the holes required for screws to hold this assembly together . See Fig. 7 . Placement of these holes is not critical , but they should be located so that the centers are about 1/8'' '' from any edge . Drill all No. 50 and counter-drill all except the `` A '' pieces size 43 . Tap the `` A '' pieces 2-56 . Now unsolder and disassemble the frame except for the two 12'' '' and the first two 3-3/4'' '' bars ( `` A '' and `` B '' pieces ) , which are soldered together . Either lay the components aside in proper order or code them with numbers and letters so they may be replaced in their proper positions . Dress all surfaces with a file , cleaning off all solder and drilling burrs . Drill 20 No. 47 holes in the upper piece `` A '' as shown in Fig. 7 . Tap these 3-48 for mounting the electrical contact later on . Note , 6 and 8 lock levers don't require holes for contacts . Now reassemble the frame , using Af roundhead steel screws and nuts . Put the 12 tappets and some Af locking bar spacers in the frame to help align all the components before you tighten the screws . Be sure the tappets are not pinched by a twisted 1/2'' '' sq. spacer . As an anchor for the spring lock , insert a Af bar in the lower left corner of the frame as shown in Fig. 7 . Drill a No. 43 hole through the pieces and secure with a 2-56 nut and screw . Drill two No. 50 holes , one in the insert and one in the locking bar spacer directly above it , and tap 2-56 . Number all the tappet bars before removing them so they can be replaced in the same slots . Remove all other loose pieces and file the edges of the basic frame smooth . Cut five pieces of Af brass bar stock 3-3/4'' '' long . These are supporting members for the short locking bars . Locate their positions in Fig. 7 and drill No. 43 to match the corresponding holes in the frame . Cut off excess screw lengths and file flush with either frame or nut . Drill four No. 19 and four No. 28 holes in the 12'' '' long `` A '' pieces . Locate the position from Fig. 7 . Tappets and locking bars Draw-file No. 1 tappet to a smooth fit in its respective slot and square the ends . Break the end corners with a slight 45 degree chamfer . Drill a No. 50 hole 1-1/4'' '' from one end and tap 2-56 . ( See Fig. 7 . ) Put a 2-56 roundhead screw into the hole , cut off the excess threads and file flush with the underside of the bar . To find the other stop screw position , insert the tappet into the frame and hold the screw head tight against the frame edge . Scribe a line across the bar on the other end of the tappet , 1/4'' '' plus half the diameter of the 2-56 screw head ( about 5/64'' '' ) away from the frame edge . Total distance is about 21/64'' '' . Tend to make this dimension slightly undersize so you can file the screw head to get exactly 1/4'' '' tappet movement . Drill a No. 50 hole , tap 2-56 and insert a roundhead 2-56 screw as you did on the first end . Drill a No. 47 hole crosswise through the tappet at the position shown in Figs. 7 and 8 . Repeat these drill and tap operations for each of the tappet bars . To each tappet except 6 and 8 , solder a Af piece of brass and file to the tapered shape shown in Figs. 6 and 8 . These will serve as lifting pads for the electrical contacts . Fitting the locking bars and making the locking pieces is a rather tedious job since stop screws , tappets and locking bars must be removed and replaced many times . As the work progresses the frame and moving parts become a sort of Chinese puzzle where several pieces must be removed before the part you are working on is accessible . A little extra work here will pay off with a smooth , snug-fitting machine when you are finished . Each completed locking bar should remain in place as the work progresses to insure snug fitting . The order of fitting is not too important . However , we started with the first row of bars and worked our way back . Since the same method of shaping and fitting the dogs and notches is used throughout , we will only describe the construction of one locking bar . Figs. 7 and 8 give all pertinent dimensions . All the bars are cut from Af brass . The lengths of each piece are listed at the bottom of Fig. 7 . Bar `` C '' is 2-3/4'' '' long . Draw-file the edges , square up the ends and put a slight chamfer on the edges so they will not snag in the frame . Fig. 8 gives the dimensions for locating the dog-pin holes . Center-punch and drill the No. 31 hole 7/16'' '' from one end of the bar . Chuck a length of 1/8'' '' dia. drill rod into a drill press or some similar turning device and while it is rotating file the end square and then file a slight taper 1/8'' '' long . Cut the piece about 9/32'' '' or 5/16'' '' long and drive it into the No. 31 hole drilled in the locking bar . File the bottom edge flush with the bar and the top 1/8'' '' above the bar . This dog will engage a notch to be cut in tappet 3 . Place the locking bar in proper position and insert tappet 3 . Scribe a line through the center of the pin and across the face of tappet 3 , parallel to piece `` A '' . See the drawings for the shape of the notch . Scribe V-shaped lines on the bar and rough out with either a hack saw or a cutting disk in a hand power tool . We used the latter equipped with a carborundum disk about '' thick and 1'' '' dia. fitted on a 1/8'' '' dia. mandrel . Such disks are very handy for cutting and shaping small parts . File to a smooth finish . A Barrette Swiss pattern file is handy since its triangular shape with only one cutting face will allow you to work a surface without marring an adjoining one . Endeavor to get the notches as much alike as possible . The notch should have a smooth finish so that the steel dog will slide easily over it . Assemble the parts in the frame and test the sliding action of the mating pieces . All matching surfaces should be checked frequently and mated on a cut and fit basis . Chuck a 2'' '' or 3'' '' piece of 1/8'' '' dia. drill rod in a drill press or electric hand tool . Fashion a sharp scribing point about 3/64'' '' long on one end , using Swiss pattern files . This tool can also be made with a lathe .\",\n          \"Emory University's Board of Trustees announced Friday that it was prepared to accept students of any race as soon as the state's tax laws made such a step possible . `` Emory University's charter and by-laws have never required admission or rejection of students on the basis of race '' , board chairman Henry L. Bowden stated . But an official statement adopted by the 33-man Emory board at its annual meeting Friday noted that state taxing requirements at present are a roadblock to accepting Negroes . The statement explained that under the Georgia Constitution and state law , tax-exempt status is granted to educational institutions only if they are segregated . `` Emory could not continue to operate according to its present standards as an institution of higher learning , of true university grade , and meet its financial obligations , without the tax-exemption privileges which are available to it only so long as it conforms to the aforementioned constitutional and statutory provisions '' , the statement said . The statement did not mention what steps might be taken to overcome the legal obstacles to desegregation . An Emory spokesman indicated , however , that the university itself did not intend to make any test of the laws . The Georgia Constitution gives the Legislature the power to exempt colleges from property taxation if , among other criteria , `` all endowments to institutions established for white people shall be limited to white people , and all endowments to institutions established for colored people shall be limited to colored people '' . At least two private colleges in the Atlanta area now or in the past have had integrated student bodies , but their tax-exempt status never has been challenged by the state . Emory is affiliated with the Methodist Church . Some church leaders , both clerical and lay , have criticized the university for not taking the lead in desegregation . Urged in 1954 The student newspaper , The Emory Wheel , as early as the fall of 1954 called for desegregation . `` From its beginning '' , the trustees' statement said Friday , `` Emory University has assumed as its primary commitment a dedication to excellence in Christian higher learning . Teaching , research and study , according to highest standards , under Christian influence , are paramount in the Emory University policy . `` As a private institution , supported by generous individuals , Emory University will recognize no obligation and will adopt no policy that would conflict with its purpose to promote excellence in scholarship and Christian education . `` There is not now , nor has there ever been in Emory University's charter or by-laws any requirement that students be admitted or rejected on the basis of race , color or creed . Insofar as its own governing documents are concerned , Emory University could now consider applications from prospective students , and others seeking applications from prospective students , and others seeking the opportunity to study or work at the university , irrespective of race , color or creed . Corporate existence `` On the other hand , Emory University derives its corporate existence from the State of Georgia . `` When and if it can do so without jeopardizing constitutional and statutory tax-exemption privileges essential to the maintenance of its educational program and facilities , Emory University will consider applications of persons desiring to study or work at the University without regard to race , color or creed , continuing university policy that all applications shall be considered on the basis of intellectual and moral standards and other criteria designed to assure the orderly and effective conduct of the university and the fulfillment of its mission as an institution of Christian higher education '' . A young man was killed and two others injured at midnight Friday when the car they were riding slid into a utility pole on Lake Avenue near Waddell Street , NE , police said . The dead youth was identified as Robert E. Sims , 19 , of 1688 Oak Knoll Cir. , Aj . Patrolman G. E. Hammons said the car evidently slid out of control on rain-slick streets and slammed into the pole . The other occupants were James Willard Olvey , 18 , of 963 Ponce De Leon Ave. , NE , and Larry Coleman Barnett , 19 , of 704 Hill St. , SE , both of whom were treated at Grady Hospital for severe lacerations and bruises . The Atlanta Negro student movement renewed its demands for movie theater integration Friday and threatened picketing and `` stand-ins '' if negotiations failed . The demands were set forth in letters to seven owners of first-run theaters by the Committee on Appeal for Human Rights . ' intend to attend ' `` We intend to attend the downtown theaters before the first of the year '' , the identically worded letters said . The letters set a Nov. 15 deadline for the start of negotiations . They indicated that stand-ins and picketing would be started if theater owners failed to cooperate . Downtown and art theater managers and owners , contacted Friday night for comment on the COAHR request , said they had no knowledge of such a letter , and that it was not in the Friday mail . However , three of the managers did say that they would agree to attend the proposed meeting if all of the other managers decided to attend . Gather here The COAHR letter comes on the eve of a large gathering of theater managers and owners scheduled to begin here Sunday . Several theater operators said , however , that there is little likelihood of the subject being discussed during the three-day affair . Student leaders began sporadic efforts to negotiate theater integration several months ago . Charles A. Black , COAHR chairman , said Friday that three theater representatives had agreed to meet with the students on Oct. 31 but had failed to show up . He declined to name the three . Friday's letters asked for a Nov. 15 meeting . Failure to attend the meeting or explain inability to attend , the letters said , would be considered a `` sign of indifference '' . Black said COAHR `` hoped to be able to integrate the theaters without taking direct action , but we are pledged to using every legal and nonviolent means at our disposal '' A prepared statement released by the student group Friday stated that `` extensive research by COAHR into techniques and methods of theater integration in other cities indicated that the presence of picket lines and stand-ins before segregated theaters causes a drop in profits '' Besides managers of downtown theaters , the students sent letters to owners of art theaters in the uptown area and Buckhead . R. E. Killingsworth Raymond E. Killingsworth , 72 , died Sunday at his home at 357 Venable St. , Aj . Mr. Kililngsworth was a foreman with S and W Cafeteria . He was born in Pittsboro , Miss. , and was a veteran of World War 1 . He was a member of the Baptist church . Survivors include two brothers , C. E. Killingsworth , Atlanta , and John Killingsworth , Warren , Ohio ; ; and two sisters , Miss Minnie Kililngsworth and Mrs. Bessie Bloom , both of Gettysburg , Pa. . John W. Ball John William Ball , 68 , of 133 Marietta St. NW , Apartment 101b , died Sunday at his home . Mr. Ball was a house painter . He was a member of the Oakland City Methodist Church and a native of Atlanta . Funeral services will be at 2 p.m. Tuesday at Blanchard's Chapel with the Rev. J. H. Hearn officiating . Survivors include his sister , Mrs. Emma B. Odom of Atlanta . Mrs. Lola Harris Mrs. Lola M. Harris , a native of Atlanta , died Sunday at her home in Garland , Tex. . Survivors include a son , Charles R. Fergeson , Memphis , Tenn. ; ; two daughters , Mrs. Gene F. Stoll and Miss Nancy Harris , both of Garland ; ; her father , H. T. Simpson , Greenville , S.C. , and three sisters , Mrs. W. E. Little and Mrs. Hal B. Wansley , both of Atlanta , and Mrs. Bill Wallace , Wilmington , N.C. . A 24-year-old Atlanta man was arrested Sunday after breaking into the home of relatives in search of his wife , hitting his uncle with a rock and assaulting two police officers who tried to subdue him , police said . Patrolmen J. W. Slate and A. L. Crawford Jr. said they arrested Ronald M. Thomas , of 1671 Nakoma St. , NW , after he assaulted the officers . Police account The officers gave this account : Thomas early Sunday went to the home of his uncle and aunt , Mr. and Mrs. R. C. Thomas , 511 Blanche St. , NW , looking for his wife , Margaret Lou Thomas , 18 , and their 11-month-old baby . The younger Thomas ripped a screen door , breaking the latch , and after an argument struck his uncle with a rock , scratching his face . He also struck his aunt and wife , and during the melee the baby also suffered scratches . When police arrived the man was still violent , Slate said . Attacks officer He attacked one of the officers and was restrained . About five minutes later he jumped up , Slate said , and struck the two policemen again . He was then subdued and placed in the police car to be taken to Grady Hospital for treatment of scratches received in the melee . Then he attacked the two officers again and was again restrained , Slate related . Slate said he and Crawford received cuts and scratches and their uniforms were badly torn . Thomas was charged with four counts of assault and battery . Two counts of assault on an officer , resisting arrest , disturbance and cursing , police said . A hearing was set for 30 a.m. Tuesday . Mrs. Mary Self , who knows more than any other person about the 5,000 city employes for whom she has kept personnel records over the years , has closed her desk and retired . Over the weekend , Mrs. Self , personnel clerk , was a feted and honored guest of the Atlanta Club , organization of women employes at City Hall . After 18 years in the personnel office , she has taken a disability pension on advice of her doctors . As personnel clerk , she handled thousands of entries , ranging from appointments to jobs , to transfers to other employments , to pensions . `` I have enjoyed it and will feel a bit lost at least for a while '' , she said wistfully Friday . One of the largest crowds in the club's history turned out to pay tribute to Mrs. Self and her service . Georgia's Department of Agriculture is intensifying its fire ant eradication program in an effort to stay ahead of the fast-spreading pest . The department is planning to expand its eradication program soon to four additional counties -- Troup , Pierce , Bryan and Bulloch -- to treat 132,000 acres infested by the ants , according to W. E. Blasingame state entomologist . Low-flying planes will spread a granular-type chemical , heptachlor , over 30,000 acres in Troup , 37,000 acres in Pierce and 65,000 acres in Bulloch and Bryan counties . The eradication effort is being pushed in Bibb and Jones counties , over 37,679 acres . The department has just finished treating 20,000 acres in urban areas of Macon . Also being treated are Houston , Bleckley , Tift , Turner and Dodge counties , Blasingame said . The fire ant is thought to infest approximately two million acres of land in Georgia , attacking crops , young wildlife and livestock and can be a serious health menace to humans who are allergic to its venom , Blasingame said . The north-bound entrance to the Expressway at 14th Street will be closed during the afternoon rush traffic hours this week . This is being done so that Georgia Tech can complete the final phase of a traffic survey on the North Expressway . Students have been using electric computers and high speed movie cameras during the study . Perhaps the engineers can find out what causes all the congestion and suggest methods to eliminate it . Incidentally , 14th Street and the Expressway is the high accident intersection during daylight hours . It is followed by Cain Street and Piedmont Avenue , NE ; ; the junction of the Northeast and Northwest Expressways and Jones Avenue and Marietta Street , Aj . Four persons died in Georgia weekend traffic crashes , two of them in a fiery crash near Snellville , the State Patrol said Sunday . The latest death reported was that of 4-year-old Claude Douglas Maynor of Calvary . Troopers said the child ran into the path of a passing car a half-mile north of Calvary on Georgia 111 in Grady County . That death occurred at 50 p.m. Friday and was reported Sunday , the patrol said . Bursts into flames An auto overturned , skidding into a stopped tractor-trailer and burst into flames near Snellville , the patrol said . Bobby Bester Hammett , 21 , of Rte. 3 , Lawrenceville , and Mrs. Lucille Herrington Jones , 23 , of Lawrenceville , died in the flaming car , the patrol said .\"\n        ],\n        \"semantic_type\": \"\",\n        \"description\": \"\"\n      }\n    },\n    {\n      \"column\": \"char_len\",\n      \"properties\": {\n        \"dtype\": \"number\",\n        \"std\": 722,\n        \"min\": 10469,\n        \"max\": 14523,\n        \"num_unique_values\": 159,\n        \"samples\": [\n          12606,\n          11845,\n          11842\n        ],\n        \"semantic_type\": \"\",\n        \"description\": \"\"\n      }\n    },\n    {\n      \"column\": \"word_len\",\n      \"properties\": {\n        \"dtype\": \"number\",\n        \"std\": 86,\n        \"min\": 2187,\n        \"max\": 2559,\n        \"num_unique_values\": 124,\n        \"samples\": [\n          2287,\n          2406,\n          2254\n        ],\n        \"semantic_type\": \"\",\n        \"description\": \"\"\n      }\n    },\n    {\n      \"column\": \"NMF_dominant_topic\",\n      \"properties\": {\n        \"dtype\": \"number\",\n        \"std\": 1,\n        \"min\": 0,\n        \"max\": 4,\n        \"num_unique_values\": 5,\n        \"samples\": [\n          0,\n          3,\n          1\n        ],\n        \"semantic_type\": \"\",\n        \"description\": \"\"\n      }\n    },\n    {\n      \"column\": \"nmf_dominant_topic\",\n      \"properties\": {\n        \"dtype\": \"number\",\n        \"std\": 1,\n        \"min\": 0,\n        \"max\": 4,\n        \"num_unique_values\": 5,\n        \"samples\": [\n          0,\n          3,\n          1\n        ],\n        \"semantic_type\": \"\",\n        \"description\": \"\"\n      }\n    }\n  ]\n}"
            }
          },
          "metadata": {},
          "execution_count": 17
        }
      ],
      "source": [
        "# Obtain dominant topic for each document & add to original df\n",
        "df['nmf_dominant_topic'] = W_text_matrix.argmax(axis=1)\n",
        "df.head()"
      ]
    },
    {
      "cell_type": "code",
      "source": [
        "# Create dict to count original categories for each topic\n",
        "nmf_categories_counter = defaultdict(Counter)\n",
        "\n",
        "# Loop through all rows in df to get topic & category for each\n",
        "for idx, row in df.iterrows():\n",
        "    topic = row['nmf_dominant_topic']\n",
        "    category = row['category']\n",
        "    nmf_categories_counter[topic][category] += 1\n",
        "\n",
        "# Print the count of original categories within each topic from NMF model\n",
        "for topic, category_counter in nmf_categories_counter.items():\n",
        "    print(\"\\nTopic \" + str(topic) + \":\")\n",
        "    for category, count in category_counter.items():\n",
        "        print(category + \": \" + str(count))"
      ],
      "metadata": {
        "colab": {
          "base_uri": "https://localhost:8080/"
        },
        "id": "FBAGX9e5zobV",
        "outputId": "925b7bf8-b9e2-4884-d526-99d1a9594332"
      },
      "id": "FBAGX9e5zobV",
      "execution_count": 22,
      "outputs": [
        {
          "output_type": "stream",
          "name": "stdout",
          "text": [
            "\n",
            "Topic 2:\n",
            "editorial: 2\n",
            "government: 26\n",
            "news: 11\n",
            "hobbies: 26\n",
            "\n",
            "Topic 0:\n",
            "editorial: 20\n",
            "government: 4\n",
            "news: 8\n",
            "\n",
            "Topic 1:\n",
            "editorial: 4\n",
            "romance: 29\n",
            "hobbies: 8\n",
            "\n",
            "Topic 4:\n",
            "editorial: 1\n",
            "news: 8\n",
            "hobbies: 1\n",
            "\n",
            "Topic 3:\n",
            "news: 17\n",
            "hobbies: 1\n"
          ]
        }
      ]
    },
    {
      "cell_type": "markdown",
      "id": "f8d4e2bc",
      "metadata": {
        "id": "f8d4e2bc"
      },
      "source": [
        "Q: How does your five-topic NMF model compare to the original Brown categories?\n",
        "\n",
        "A: A few of the topic from the NMF model seem to correspond well to a few of the original Brown categories, but none are perfectly clean in that the NMF topic has documents from only one Brown category ***and*** captures all documents from that Brown category.\n",
        "\n",
        "* Topic 1 from the NMF model matches the original Brown categories fairly well because it captures all the documents within Brown's romance category. However, only approx 71% of the category are documents originally classified as romance, so it does differ significantly from just a romance category.\n",
        "* Topic 3 does quite well at capturing just news documents as approx 94% of the topic are documents categorized as news documents. However, only approx 39% of the total documents categorized as news originally are within this topic, meaning it fails to capture all news documents.\n",
        "* Topic 4 also captures mainly news documents with 80% of its documents being originally categorized as news, but fails to capture the variance within the original news category.\n",
        "* Topic 0 matches the original Brown category of editorial quite well as 62.5% of its documents are from the original editorial category and it captured approx 74% of all editorial documents. However, it does still have a fair amount of noise (per say) from government and news documents.\n",
        "* Topic 2 is fairly mixed, with a notable amount of documents from the original categories of government, news, and hobbies, alongside a few editorial documents."
      ]
    },
    {
      "cell_type": "markdown",
      "id": "82e37cb5",
      "metadata": {
        "id": "82e37cb5"
      },
      "source": [
        "## Fitting an LSA Model\n",
        "\n",
        "In this section, follow the example from the repository and fit an LSA model (called a \"TruncatedSVD\" in `sklearn`). Again fit a five-topic model and compare it to the actual categories in the Brown corpus. Use the TF-IDF vectors for your fit, as above.\n",
        "\n",
        "To be explicit, we are once again interested in the extent to which this LSA factorization agrees or disagrees with the original categories in the corpus. For each topic in your model, tally the Brown categories and interpret the results.\n"
      ]
    },
    {
      "cell_type": "code",
      "execution_count": 30,
      "id": "00b53d3d",
      "metadata": {
        "id": "00b53d3d"
      },
      "outputs": [],
      "source": [
        "# Fit LSA model\n",
        "svd_text_model = TruncatedSVD(n_components = 5, random_state=42)\n",
        "W_svd_text_matrix = svd_text_model.fit_transform(tfidf_text_vectors)\n",
        "H_svd_text_matrix = svd_text_model.components_"
      ]
    },
    {
      "cell_type": "code",
      "source": [
        "# Get dominant topic for each document & add to original df\n",
        "df['lsa_dominant_topic'] = W_svd_text_matrix.argmax(axis=1)\n",
        "\n",
        "# Create dict to count original categories for each topic\n",
        "lsa_categories_counter = defaultdict(Counter)\n",
        "\n",
        "# Loop through all rows in df to get topic & category for each\n",
        "for idx, row in df.iterrows():\n",
        "    topic = row['lsa_dominant_topic']\n",
        "    category = row['category']\n",
        "    lsa_categories_counter[topic][category] += 1\n",
        "\n",
        "# Print the count of original categories within each topic from LSA model\n",
        "for topic, category_counter in lsa_categories_counter.items():\n",
        "    print(\"\\nTopic \" + str(topic) + \":\")\n",
        "    for category, count in category_counter.items():\n",
        "        print(category + \": \" + str(count))"
      ],
      "metadata": {
        "colab": {
          "base_uri": "https://localhost:8080/"
        },
        "id": "vVmXelRC3vt1",
        "outputId": "6583c81d-5be2-4c63-baa4-cec0e301553d"
      },
      "id": "vVmXelRC3vt1",
      "execution_count": 35,
      "outputs": [
        {
          "output_type": "stream",
          "name": "stdout",
          "text": [
            "\n",
            "Topic 0:\n",
            "editorial: 27\n",
            "government: 30\n",
            "news: 34\n",
            "romance: 21\n",
            "hobbies: 36\n",
            "\n",
            "Topic 4:\n",
            "news: 7\n",
            "\n",
            "Topic 3:\n",
            "news: 3\n",
            "\n",
            "Topic 1:\n",
            "romance: 8\n"
          ]
        }
      ]
    },
    {
      "cell_type": "markdown",
      "id": "4d94d56f",
      "metadata": {
        "id": "4d94d56f"
      },
      "source": [
        "Q: How does your five-topic LSA model compare to the original Brown categories?\n",
        "\n",
        "A: The LSA model performs more poorly than the NMF model (which also failed to truly accurately capture the original Brown categories) for a few reasons:\n",
        "\n",
        "* When given a parameter of identifying 5 topics, the model only classifies documents into 4 dominants topics.\n",
        "* Topics 3 and 4 both have only news documents, but there are also news documents present in Topic 0. Thus, any one topic fails to capture the variance across news documents.\n",
        "* Topic 1 aligns with the romance category (as it is only romance documents) but it captures less than 30% of the total romance documents, so it fails to capture the variance across romance documents.\n",
        "* Topic 0 has the vast majority of the documents and has over 20 documents in each category, thus failing to differentiate in any regard."
      ]
    },
    {
      "cell_type": "code",
      "execution_count": 41,
      "id": "377a886e",
      "metadata": {
        "colab": {
          "base_uri": "https://localhost:8080/"
        },
        "id": "377a886e",
        "outputId": "24404169-92a7-4e8b-e27f-b149dd671ebf"
      },
      "outputs": [
        {
          "output_type": "stream",
          "name": "stdout",
          "text": [
            "\n",
            "Topic 00\n",
            "  said (0.44)\n",
            "  mr (0.25)\n",
            "  mrs (0.22)\n",
            "  state (0.20)\n",
            "  man (0.17)\n",
            "\n",
            "Topic 01\n",
            "  said (3.89)\n",
            "  ll (2.73)\n",
            "  didn (2.63)\n",
            "  thought (2.20)\n",
            "  got (1.97)\n",
            "\n",
            "Topic 02\n",
            "  mrs (3.14)\n",
            "  mr (1.73)\n",
            "  said (1.05)\n",
            "  kennedy (0.81)\n",
            "  president (0.77)\n",
            "\n",
            "Topic 03\n",
            "  mrs (30.38)\n",
            "  club (6.70)\n",
            "  game (6.40)\n",
            "  jr (5.81)\n",
            "  dallas (5.50)\n",
            "\n",
            "Topic 04\n",
            "  game (4.33)\n",
            "  league (3.09)\n",
            "  baseball (3.06)\n",
            "  ball (2.94)\n",
            "  team (2.81)\n"
          ]
        }
      ],
      "source": [
        "# call display_topics on your model\n",
        "display_topics(svd_text_model, tfidf_text_vectorizer.get_feature_names_out())"
      ]
    },
    {
      "cell_type": "markdown",
      "id": "ea8b280a",
      "metadata": {
        "id": "ea8b280a"
      },
      "source": [
        "Q: What is your interpretation of the display topics output?\n",
        "\n",
        "A: My interpretation is as follows:\n",
        "\n",
        "* Topic 4 clearly seems like it is about sports, perhaps even baseball specifically, but we can't say that with certainty just by looking at this.\n",
        "* Topics 0 and 2 seem like they could be about government, speeches, formal events, etc because they contain government terms (president, kennedy, state), formal prefixes (mr, mrs), and words that may reference speeches (said, state).\n",
        "* Topic 1 does not hold very descriptive/distinctive words at all and Topic 3 seems to just hold a random grabbag of words.\n",
        "* There are certain words shared by multiple topics (mrs, mr, game, etc), which may contribute to the lack of clear delineations & Brown's original categories being spread across multiple topics.  "
      ]
    },
    {
      "cell_type": "markdown",
      "id": "b4ab4d29",
      "metadata": {
        "id": "b4ab4d29"
      },
      "source": [
        "## Fitting an LDA Model\n",
        "\n",
        "Finally, fit a five-topic LDA model using the count vectors (`count_text_vectors` from above). Display the results using `pyLDAvis.display` and describe what you learn from that visualization."
      ]
    },
    {
      "cell_type": "code",
      "execution_count": 42,
      "id": "802cb8ff",
      "metadata": {
        "id": "802cb8ff"
      },
      "outputs": [],
      "source": [
        "# Fit your LDA model here\n",
        "lda_text_model = LatentDirichletAllocation(n_components = 5, random_state=42)\n",
        "W_lda_text_matrix = lda_text_model.fit_transform(count_text_vectors)\n",
        "H_lda_text_matrix = lda_text_model.components_"
      ]
    },
    {
      "cell_type": "code",
      "execution_count": 43,
      "id": "ab18adf5",
      "metadata": {
        "colab": {
          "base_uri": "https://localhost:8080/"
        },
        "id": "ab18adf5",
        "outputId": "f81fdec5-a976-46e7-bfe0-c3e2d329eb09"
      },
      "outputs": [
        {
          "output_type": "stream",
          "name": "stdout",
          "text": [
            "\n",
            "Topic 00\n",
            "  home (0.46)\n",
            "  right (0.35)\n",
            "  game (0.35)\n",
            "  way (0.34)\n",
            "  set (0.34)\n",
            "\n",
            "Topic 01\n",
            "  state (0.89)\n",
            "  development (0.57)\n",
            "  states (0.51)\n",
            "  program (0.46)\n",
            "  use (0.44)\n",
            "\n",
            "Topic 02\n",
            "  said (0.93)\n",
            "  mr (0.73)\n",
            "  president (0.63)\n",
            "  state (0.49)\n",
            "  mrs (0.48)\n",
            "\n",
            "Topic 03\n",
            "  feed (0.90)\n",
            "  general (0.73)\n",
            "  business (0.70)\n",
            "  property (0.69)\n",
            "  shall (0.67)\n",
            "\n",
            "Topic 04\n",
            "  said (1.56)\n",
            "  man (0.62)\n",
            "  little (0.62)\n",
            "  old (0.59)\n",
            "  good (0.53)\n"
          ]
        }
      ],
      "source": [
        "# Call `display_topics` on your fitted model here\n",
        "display_topics(lda_text_model, count_text_vectorizer.get_feature_names_out())"
      ]
    },
    {
      "cell_type": "markdown",
      "source": [
        "Q: What inference do you draw from the displayed topics for your LDA model?\n",
        "['editorial','government','news','romance','hobbies']\n",
        "\n",
        "A: I draw the following inferences from the displayed topics for the LDA model:\n",
        "\n",
        "* Topic 0 seems to have multiple terms associated with sports, so it may correlate with the hobbies category from the original Brown categories.\n",
        "* Topic 1 seems related to government programs and Topic 2 seems related to government/formal agents, so perhaps Topic 1 is correlated with the news category and Topic 2 is with the government category.\n",
        "* Topic 3 seems related to business, but \"feed\" seems a bit out of place unless it's regarding farming business or something as such. I'm not sure which of the Brown categories this would correlate to.\n",
        "* Topic 4's words seem quite random, especially \"said\" and \"good,\" which are both pretty general words. Given the categories remaining, perhaps this correlates with romance, but I do not feel confident about that guess."
      ],
      "metadata": {
        "id": "W4IHynoD8xR-"
      },
      "id": "W4IHynoD8xR-"
    },
    {
      "cell_type": "code",
      "source": [
        "# Get dominant topic for each document & add to original df\n",
        "df['lda_dominant_topic'] = W_lda_text_matrix.argmax(axis=1)\n",
        "\n",
        "# Create dict to count original categories for each topic\n",
        "lda_categories_counter = defaultdict(Counter)\n",
        "\n",
        "# Loop through all rows in df to get topic & category for each\n",
        "for idx, row in df.iterrows():\n",
        "    topic = row['lda_dominant_topic']\n",
        "    category = row['category']\n",
        "    lda_categories_counter[topic][category] += 1\n",
        "\n",
        "# Print the count of original categories within each topic from LDA model\n",
        "for topic, category_counter in lda_categories_counter.items():\n",
        "    print(\"\\nTopic \" + str(topic) + \":\")\n",
        "    for category, count in category_counter.items():\n",
        "        print(category + \": \" + str(count))"
      ],
      "metadata": {
        "colab": {
          "base_uri": "https://localhost:8080/"
        },
        "id": "zEa3aDNR8cEm",
        "outputId": "5b0ae628-4b46-4d9b-88a7-25ea49c81ecc"
      },
      "id": "zEa3aDNR8cEm",
      "execution_count": 44,
      "outputs": [
        {
          "output_type": "stream",
          "name": "stdout",
          "text": [
            "\n",
            "Topic 2:\n",
            "editorial: 22\n",
            "government: 2\n",
            "news: 31\n",
            "hobbies: 1\n",
            "\n",
            "Topic 4:\n",
            "editorial: 1\n",
            "romance: 29\n",
            "hobbies: 2\n",
            "\n",
            "Topic 0:\n",
            "editorial: 3\n",
            "news: 9\n",
            "hobbies: 16\n",
            "\n",
            "Topic 1:\n",
            "editorial: 1\n",
            "government: 20\n",
            "news: 3\n",
            "hobbies: 14\n",
            "\n",
            "Topic 3:\n",
            "government: 8\n",
            "news: 1\n",
            "hobbies: 3\n"
          ]
        }
      ]
    },
    {
      "cell_type": "markdown",
      "id": "f2c67876",
      "metadata": {
        "id": "f2c67876"
      },
      "source": [
        "\n",
        "Q: Repeat the tallying of Brown categories within your topics. How does your five-topic LDA model compare to the original Brown categories?\n",
        "\n",
        "A: The LDA model's topics compare to the original Brown categories as follows:\n",
        "\n",
        "* Topic 2 has mainly editorial and news documents (which makes sense given the words such as president, state, etc). It captures most of the editorial documents, but there are a significant amount of news documents in other topics as well.\n",
        "* Topic 4 has all the romance documents and over 90% of the topic is those romance documents, so this does quite well at aligning with Brown's original romance category.\n",
        "* Brown's original hobbies category is scattered around all 5 topics, with the highest number of hobbies documents in Topic 0, but that being less than 50% of all hobbies documents in the corpus.\n",
        "* Topic 1 has a mix of 4 original categories, with government and hobbies being the main two.\n",
        "* Topic 3 is 2/3 government documents.\n",
        "\n",
        "In conclusion, Topic 4 does quite a good job at capturing the romance category from Brown's original categories, but all other topics and categories are not very well-aligned."
      ]
    },
    {
      "cell_type": "code",
      "execution_count": 45,
      "id": "6aae75ca",
      "metadata": {
        "id": "6aae75ca"
      },
      "outputs": [],
      "source": [
        "lda_display = pyLDAvis.lda_model.prepare(lda_text_model, count_text_vectors, count_text_vectorizer, sort_topics=False)"
      ]
    },
    {
      "cell_type": "code",
      "execution_count": 46,
      "id": "2a89fc15",
      "metadata": {
        "colab": {
          "base_uri": "https://localhost:8080/",
          "height": 861
        },
        "id": "2a89fc15",
        "outputId": "3e88d04a-a3af-4d49-8427-58994f15ded8"
      },
      "outputs": [
        {
          "output_type": "execute_result",
          "data": {
            "text/plain": [
              "<IPython.core.display.HTML object>"
            ],
            "text/html": [
              "\n",
              "<link rel=\"stylesheet\" type=\"text/css\" href=\"https://cdn.jsdelivr.net/gh/bmabey/pyLDAvis@3.4.0/pyLDAvis/js/ldavis.v1.0.0.css\">\n",
              "\n",
              "\n",
              "<div id=\"ldavis_el7081379260465501604425862309\" style=\"background-color:white;\"></div>\n",
              "<script type=\"text/javascript\">\n",
              "\n",
              "var ldavis_el7081379260465501604425862309_data = {\"mdsDat\": {\"x\": [-0.08904549103408571, 0.1239364492508877, 0.02550016758922644, 0.15979135455241386, -0.22018248035844212], \"y\": [0.16135617455413784, -0.009252658807314768, -0.04809236794047036, -0.016212399453421292, -0.08779874835293142], \"topics\": [1, 2, 3, 4, 5], \"cluster\": [1, 1, 1, 1, 1], \"Freq\": [17.447275076686967, 24.24591072579834, 32.831236255960924, 7.470347983418976, 18.005229958134795]}, \"tinfo\": {\"Term\": [\"said\", \"government\", \"general\", \"feed\", \"business\", \"united\", \"state\", \"states\", \"shall\", \"property\", \"department\", \"development\", \"act\", \"john\", \"didn\", \"tax\", \"ll\", \"thought\", \"mother\", \"president\", \"little\", \"board\", \"small\", \"local\", \"shelter\", \"don\", \"man\", \"old\", \"kennedy\", \"court\", \"player\", \"baseball\", \"panels\", \"leg\", \"yards\", \"yankees\", \"holes\", \"gallery\", \"vernon\", \"coach\", \"charlie\", \"plastic\", \"hits\", \"ball\", \"pittsburgh\", \"favorite\", \"runs\", \"pitcher\", \"hole\", \"pitching\", \"team\", \"paint\", \"stadium\", \"ruth\", \"willie\", \"bat\", \"homer\", \"amateur\", \"paintings\", \"chest\", \"pieces\", \"games\", \"cooling\", \"drill\", \"roy\", \"clay\", \"game\", \"bob\", \"golf\", \"season\", \"inch\", \"football\", \"playing\", \"hit\", \"frame\", \"piece\", \"league\", \"fig\", \"signs\", \"club\", \"cut\", \"junior\", \"play\", \"green\", \"run\", \"center\", \"home\", \"set\", \"won\", \"right\", \"place\", \"don\", \"second\", \"way\", \"house\", \"ll\", \"good\", \"work\", \"class\", \"mrs\", \"use\", \"left\", \"high\", \"better\", \"best\", \"said\", \"textile\", \"participation\", \"employee\", \"musical\", \"publications\", \"faculty\", \"forests\", \"recreation\", \"inventory\", \"interior\", \"fiscal\", \"producers\", \"imports\", \"creative\", \"designers\", \"maintain\", \"evaluation\", \"academic\", \"depreciation\", \"exceed\", \"coverage\", \"laboratories\", \"curriculum\", \"engineers\", \"expenditures\", \"comprehensive\", \"locations\", \"educated\", \"resources\", \"fishing\", \"rhode\", \"organizations\", \"vehicles\", \"india\", \"development\", \"projects\", \"library\", \"activities\", \"technical\", \"pool\", \"planning\", \"published\", \"import\", \"management\", \"site\", \"island\", \"plant\", \"medical\", \"bridge\", \"state\", \"research\", \"program\", \"industrial\", \"1960\", \"available\", \"corps\", \"system\", \"use\", \"production\", \"states\", \"period\", \"services\", \"important\", \"area\", \"interest\", \"national\", \"united\", \"work\", \"000\", \"service\", \"college\", \"water\", \"company\", \"government\", \"american\", \"business\", \"public\", \"high\", \"kennedy\", \"nuclear\", \"soviet\", \"khrushchev\", \"laos\", \"berlin\", \"congo\", \"republican\", \"moscow\", \"cuba\", \"weapons\", \"senate\", \"castro\", \"sen\", \"charter\", \"troops\", \"hughes\", \"premier\", \"communism\", \"democrats\", \"communists\", \"election\", \"aug\", \"welfare\", \"gen\", \"republicans\", \"katanga\", \"bombs\", \"police\", \"communist\", \"democratic\", \"rayburn\", \"georgia\", \"leader\", \"russia\", \"vote\", \"political\", \"jury\", \"president\", \"committee\", \"mr\", \"mayor\", \"county\", \"party\", \"council\", \"war\", \"mrs\", \"city\", \"meeting\", \"said\", \"east\", \"west\", \"yesterday\", \"nations\", \"000\", \"military\", \"administration\", \"school\", \"state\", \"american\", \"government\", \"public\", \"united\", \"people\", \"week\", \"world\", \"house\", \"states\", \"members\", \"john\", \"national\", \"program\", \"man\", \"home\", \"recommendation\", \"motors\", \"thereof\", \"boats\", \"shelter\", \"feed\", \"cattle\", \"interference\", \"chemical\", \"assessment\", \"catastrophe\", \"boat\", \"tangible\", \"engine\", \"stockholders\", \"conversion\", \"electricity\", \"claim\", \"property\", \"stations\", \"ratio\", \"accommodate\", \"farmers\", \"concrete\", \"battery\", \"pound\", \"blocks\", \"claims\", \"manufactured\", \"63\", \"loans\", \"officer\", \"credit\", \"trust\", \"shall\", \"farm\", \"respect\", \"laws\", \"general\", \"act\", \"business\", \"department\", \"stock\", \"hearing\", \"daily\", \"john\", \"small\", \"government\", \"local\", \"class\", \"board\", \"tax\", \"united\", \"court\", \"policy\", \"service\", \"states\", \"report\", \"head\", \"secretary\", \"pale\", \"smiled\", \"hadn\", \"hair\", \"listening\", \"shoes\", \"loved\", \"hell\", \"sick\", \"liked\", \"mother\", \"stared\", \"heel\", \"wondered\", \"smile\", \"tongue\", \"laughed\", \"handsome\", \"silent\", \"looked\", \"strange\", \"lips\", \"till\", \"dad\", \"dear\", \"fountain\", \"puerto\", \"rico\", \"susan\", \"nodded\", \"wasn\", \"couldn\", \"love\", \"sat\", \"didn\", \"eyes\", \"baby\", \"woman\", \"thought\", \"stood\", \"yes\", \"child\", \"wouldn\", \"knew\", \"alexander\", \"went\", \"father\", \"voice\", \"bed\", \"door\", \"felt\", \"girl\", \"got\", \"know\", \"god\", \"little\", \"said\", \"young\", \"came\", \"ll\", \"away\", \"old\", \"man\", \"boy\", \"come\", \"going\", \"don\", \"let\", \"thing\", \"good\", \"life\", \"way\", \"look\", \"day\", \"asked\", \"people\", \"think\", \"night\"], \"Freq\": [793.0, 274.0, 197.0, 90.0, 207.0, 301.0, 493.0, 334.0, 123.0, 91.0, 155.0, 202.0, 128.0, 165.0, 123.0, 176.0, 165.0, 138.0, 96.0, 298.0, 236.0, 173.0, 207.0, 127.0, 55.0, 175.0, 280.0, 251.0, 131.0, 106.0, 46.900617382795076, 38.3201919587509, 32.601476249193, 27.831525211454064, 25.929233675327946, 24.965651021853585, 21.16277883221047, 21.155429552015487, 19.254389784454837, 21.947937942987984, 18.28062873688694, 24.504910875563514, 15.44222727515533, 59.068237809240934, 15.429350272859372, 15.429775935704045, 38.066924702019094, 14.482031649232397, 35.29261204086962, 13.535621759504735, 53.26575195711281, 13.516253246233767, 12.582744451574854, 12.582358303937443, 12.58220617958516, 12.580083705056316, 12.579537857165423, 12.577344934489329, 12.576735754565973, 18.81837879188689, 48.981019776164025, 28.516446892422916, 34.18539770126026, 30.685701114865783, 20.296779363909824, 70.92710391222951, 76.42101603091835, 21.859355384655018, 24.064317493411185, 55.752531950871486, 55.41576812531136, 23.176638782391745, 32.95509315449189, 45.295959244571286, 32.17680895813646, 45.65789699624379, 44.08800327041031, 26.856071180115393, 30.029049163988496, 68.2441583715675, 61.47380111399637, 44.5158276292147, 45.17975584948411, 41.7418272886329, 61.5605061859395, 53.24851828557133, 99.24831428743144, 73.1548685480616, 49.90191872032147, 77.17424013092669, 71.06844436634589, 67.45444118433471, 54.795758071219076, 73.85743200897498, 66.50953757158283, 58.071013526849256, 68.45390871103861, 64.72256586429475, 48.053470757015035, 59.567487890083015, 57.07727059133207, 52.348609357358605, 52.82355751026614, 50.682057336879865, 49.369099019370886, 51.044304802211826, 28.30592572507236, 24.424933130164757, 24.416582541428443, 20.544465245197692, 19.577791969757868, 51.22952404642785, 15.703268535408924, 34.959107438323215, 16.49902310202572, 39.41961363149074, 105.71631917016937, 10.84315022288775, 10.84319196188186, 15.36603081390788, 10.837350150282662, 18.966346585386322, 8.909802874473474, 27.529009854898337, 8.858011680160253, 14.160264880448958, 12.377114435979683, 7.9450911039239775, 7.944499146179805, 26.498449187642596, 24.601887270428154, 6.979551908378138, 6.97782565983777, 6.961783314860123, 35.52040249074207, 16.499841358692876, 77.51764253547506, 34.38058053559416, 38.77975209703736, 33.56659824328089, 171.06640326090877, 47.605819797724045, 40.700733576576205, 50.99879715314299, 50.77495370211003, 65.62205389309977, 69.98216493822908, 23.882312072832708, 22.226309066144577, 67.03066445066749, 43.608897498620934, 90.07056610828141, 63.127240535933105, 76.72074181207199, 42.115783775743466, 269.2874548085998, 75.01508583602283, 137.83429234631967, 58.36202478028878, 85.25628829194977, 78.6467368640036, 55.99466247540462, 88.49431784587479, 132.01586015801269, 59.776284645261946, 153.8703034647508, 66.51941709764527, 61.044387012280545, 68.15034258267053, 75.45918600647936, 71.63562137761213, 89.85286077004876, 100.30627971606052, 89.75509366471243, 91.20163096512577, 79.78955096407306, 66.599452647443, 70.94711198307907, 66.1706422642869, 76.07309911924946, 73.78709559466976, 70.73831575986318, 68.82940026130557, 67.17454331593031, 130.5579885784805, 78.28316230995776, 80.1553495573065, 72.42766617967004, 49.97545822375618, 64.3288607521747, 43.144148488863564, 39.23921138129498, 37.287232055420354, 37.285162291857915, 33.381173530539776, 50.481868098471736, 29.478116066043484, 29.472070136194144, 27.52447842099427, 26.54656756146541, 24.598100241185147, 24.597463627420403, 28.366359331598463, 23.62153441846342, 23.6215147072732, 53.851561232574085, 22.634993277198742, 28.28942795200068, 21.667875350260545, 19.717225368697083, 19.715333295353975, 18.73929886285082, 44.95663417155406, 71.08883786921633, 58.67263564973983, 44.7273179635268, 41.01186311970624, 40.961178070026364, 42.754943558006914, 53.26004849556483, 77.66451404222013, 45.99694390738241, 256.6833087127219, 100.13108356008047, 299.58693696212424, 41.66774583018282, 89.54950650704204, 88.25087010038453, 63.246503143009626, 111.5499723025542, 196.8118194200382, 146.6433766566954, 77.42239713159216, 381.8436104074144, 75.45054972154973, 81.92645439054769, 54.33565818383025, 64.87072201972028, 157.17128924834788, 86.05398991963587, 90.41446202544772, 105.34110373746259, 200.51010750114847, 135.26728212749592, 136.36311808125194, 113.67484428167825, 143.1304642852168, 131.3935718106033, 102.30539146482391, 118.03946916863106, 110.80907382496773, 127.51280528548077, 85.81571642208266, 87.78699173276561, 90.85601777434412, 90.58171583241348, 91.80600480969768, 85.06904723383849, 17.17819215438886, 41.1066032519499, 10.842304100261615, 34.16341019761969, 51.60931009286683, 83.87131629281033, 16.961910390036426, 28.586241537893024, 21.559437024413405, 13.89206576184858, 4.315888104638094, 31.35339840756031, 10.914009441186593, 20.29408022906205, 14.366234414437272, 9.08575304066393, 8.384577507961813, 29.56793546629767, 63.98267165592577, 39.5708510438492, 13.310226929816343, 4.413536328938494, 11.812101414289597, 15.434840879722657, 8.542015318965724, 16.214437965845217, 13.14185929291349, 18.565904999623545, 5.376394928937692, 4.116116220725744, 18.870983705821814, 31.16195358873168, 23.43723953138892, 22.324315419680747, 62.11460505547638, 21.887162140461033, 25.334996433955933, 25.16304198726041, 68.32523030674938, 48.387853017328936, 65.54843990630225, 49.311286436947015, 31.930065536052233, 24.895635019269687, 25.299699763187487, 45.59237115011303, 50.878054309152105, 58.514786121854364, 39.12774388572289, 33.69960885418458, 42.05178208707696, 42.15988722908289, 51.062592292508135, 32.48766108442126, 30.139180521217167, 37.84698971611505, 43.129692710264976, 26.447916361014258, 27.322591717134074, 26.95020427962375, 26.22397208481551, 26.22312567603621, 30.807720714277067, 34.29585524073728, 18.509420935971903, 18.506600131978928, 17.546129234809687, 15.616621370254812, 15.616011782791311, 14.652382045426346, 91.65336955100082, 14.640724595512122, 14.616591009698464, 13.687751571357209, 13.684077201385549, 13.681568956662648, 12.722342624999984, 15.422502005302226, 11.760994549566389, 79.5965325943806, 15.325600615889103, 10.79880247809887, 10.795549117390271, 10.790566768128166, 10.7909344026042, 10.789337946981775, 18.783165780481877, 18.78293447851763, 25.06675001505224, 9.830940284581827, 53.62872441597581, 49.06544191651007, 55.025465700604336, 34.6626853755711, 110.38470093345856, 86.73179772095598, 32.365441884296835, 48.680004552649336, 115.39167767292903, 42.393882445335464, 35.80365335589416, 56.41316348295634, 36.29765011663903, 72.90742519564195, 22.679581977802094, 99.56843254895266, 50.25735129316532, 40.32391391324261, 30.457366445791557, 53.597192336937965, 66.88466514659387, 37.331796870817946, 97.33786957462661, 118.80837727344323, 48.24708939329565, 140.00647011714798, 351.1814087884996, 87.76999255278076, 100.05581404206976, 99.33034907589823, 79.03211438555667, 131.7804774714753, 140.16148159356433, 58.44275600148451, 102.08235138043327, 81.29417470698674, 95.25692500726008, 74.88672246223308, 64.23603254057313, 119.13152483850291, 82.15193418702749, 100.34242550525857, 70.9595313673355, 99.45093278293253, 68.27580654754772, 87.43700324028713, 69.72423847300384, 68.29549271581841], \"Total\": [793.0, 274.0, 197.0, 90.0, 207.0, 301.0, 493.0, 334.0, 123.0, 91.0, 155.0, 202.0, 128.0, 165.0, 123.0, 176.0, 165.0, 138.0, 96.0, 298.0, 236.0, 173.0, 207.0, 127.0, 55.0, 175.0, 280.0, 251.0, 131.0, 106.0, 47.664353006940736, 39.08449237122964, 33.36452797395766, 28.597992925746375, 26.691310763606367, 25.738143827757195, 21.924682233249246, 21.92481758103477, 20.018096873595066, 22.88088300320795, 19.065014116945697, 25.709666737501696, 16.204806079853483, 61.98857273210532, 16.20439451778149, 16.204890857285125, 40.05825609278071, 15.25155462487227, 37.19065702047357, 14.298157118147184, 56.28168009499059, 14.298523621335809, 13.344838599195485, 13.344843079876602, 13.344839526551354, 13.344862169537443, 13.344899633086344, 13.344939833001607, 13.34493085285659, 20.028426619099204, 52.394966399668505, 30.519591447218982, 37.20925808553476, 33.40360988757229, 21.934628832262838, 81.13903425209902, 88.77109117227326, 23.859328205313663, 26.714928402944278, 66.7696322745881, 67.14937119000079, 25.780980704131252, 39.08730858341468, 57.42506489349283, 38.237812720554146, 60.32370987759946, 59.39162196779934, 31.22397459161483, 36.35442971383611, 110.39094009275048, 97.00956488697169, 64.0139204794593, 66.04973567917794, 61.32170923668711, 117.88826919757679, 93.23398979469349, 264.6635621508043, 168.10523589933342, 87.3255500564, 211.53755012135645, 188.1876042250865, 175.54834026912, 122.20078914070947, 273.01938601456914, 231.71600302131566, 165.2567983044055, 306.4727202482373, 259.6511321710866, 97.21507091062833, 305.4362298384927, 255.68608958646593, 160.697669506846, 219.23861867225742, 158.86513520952576, 138.31978127631663, 793.1980625140218, 29.066277834701797, 25.18821601278143, 25.187425430065513, 21.310435117003852, 20.34069916976691, 53.31198076178562, 16.46303713004141, 36.73950920168947, 17.419236908303738, 41.644368123425444, 112.46771652014833, 11.615241615072794, 11.615681174914732, 16.46535509565292, 11.615444194120277, 20.345024378932056, 9.676277631083904, 30.047459886281484, 9.676528342844197, 15.489464864639501, 13.557378463278022, 8.707277541875058, 8.707210774621505, 29.05847769758134, 27.139427910242283, 7.737949798815947, 7.737860506987803, 7.737897552736284, 39.48906554376951, 18.39576337743736, 86.93927376656625, 38.537564131751196, 43.53651361214194, 37.81484319199795, 202.54345953668195, 54.289103915096746, 46.489141757787216, 58.87298783480312, 59.05703959312551, 78.44349545891595, 86.15500553198635, 27.144227761864027, 25.15254221181199, 85.44802420189784, 53.18898347487014, 120.69243365827359, 81.17637891156804, 102.74489704878323, 52.16582048185015, 493.62537576096975, 104.64650009037034, 234.15281293863555, 79.30368946288408, 130.85965117021206, 120.50229372173813, 76.67837338800327, 144.03487318158, 255.68608958646593, 84.9409613062614, 334.60909347477894, 100.26523677017711, 95.4666625815293, 116.54560425434006, 146.63878947508465, 134.87934177696744, 215.7638644713465, 301.1143546521272, 259.6511321710866, 283.7377340480488, 204.71415487286396, 125.01374970261897, 162.35101162081645, 139.2006376068673, 274.29200396195154, 263.6274918132039, 207.05856226204006, 202.12176262528666, 219.23861867225742, 131.7474469432031, 79.04169172167212, 80.99298021478864, 73.18495123391351, 50.73405016321961, 65.35199596575514, 43.90119445536836, 39.99668095319411, 38.044422538977315, 38.04440829842818, 34.139894173383965, 51.705719037828665, 30.235427051212053, 30.234936155226116, 28.283157414718243, 27.30700265152175, 25.35480649672315, 25.354775130552333, 29.258280708044044, 24.378674890125268, 24.378670527073798, 55.591255687245855, 23.401739554694217, 29.25720762270474, 22.426402188945165, 20.47417369574091, 20.47411552868958, 19.49802272108339, 46.8219591225045, 74.13978785883914, 61.4575016612404, 46.813171618447974, 42.91715478224245, 42.89665200500996, 44.867768474782245, 56.465180883003, 83.75605493543976, 48.75710006406644, 298.0049253740504, 111.16954463300405, 388.94905731377287, 44.8168085092982, 105.29405630331755, 108.99175405552204, 73.9346789209911, 146.9469547297107, 305.4362298384927, 215.50738617088138, 98.07230972170908, 793.1980625140218, 95.30910098855254, 106.76662465986622, 62.315939205517665, 79.91343885868763, 283.7377340480488, 123.46464847790249, 133.1041149397706, 172.87352126817873, 493.62537576096975, 263.6274918132039, 274.29200396195154, 202.12176262528666, 301.1143546521272, 265.3833318338332, 188.8314803304811, 255.8211590073812, 231.71600302131566, 334.60909347477894, 141.93088414521424, 165.08586651214668, 215.7638644713465, 234.15281293863555, 280.6051549180669, 264.6635621508043, 17.961121314259383, 43.121946046537495, 11.70007565551441, 36.905694030964135, 55.84550812393365, 90.90616061720588, 19.908789728466118, 34.476775955340976, 26.335730556568752, 17.28202436116522, 5.455801077999395, 39.99891901371443, 14.622982316965341, 28.35111108716313, 20.16763222673975, 12.810231836101348, 11.91158828458606, 42.153464388229395, 91.75925342616226, 56.93288479393975, 19.252482229328177, 6.423512756744693, 17.46977961226727, 22.959421024424817, 12.803104188002479, 24.69680569696867, 20.138418395357395, 28.52211199555114, 8.276134489824841, 6.441695690297928, 30.456894083649775, 51.78874668622457, 38.81757716815532, 37.01753180641854, 123.83285098432751, 37.98222346660759, 46.375300838518825, 47.48340486956444, 197.37841645995587, 128.93242528505587, 207.05856226204006, 155.2374171283645, 75.70146992373215, 50.324547065276725, 52.30758922305785, 165.08586651214668, 207.4386727106455, 274.29200396195154, 127.8294879471016, 97.21507091062833, 173.06300374244162, 176.23689119465033, 301.1143546521272, 106.26131396540312, 92.7569883643136, 204.71415487286396, 334.60909347477894, 88.16202157990372, 132.73249417201146, 121.3003531451977, 26.985718850138326, 26.985740113031234, 31.804157090501334, 35.65690093636523, 19.27195993903882, 19.271928781912685, 18.30775648742035, 16.379241516888623, 16.37921617372489, 15.415029062860139, 96.45899309675671, 15.414880981580339, 15.415264817709462, 14.450711190669242, 14.450763884434094, 14.45086363233152, 13.486300190496232, 16.377042400438693, 12.522303359993158, 84.88269641041097, 16.382867022120138, 11.558146294110987, 11.557949780159584, 11.557639126610662, 11.558162833175269, 11.558051587014758, 20.22402689990838, 20.224030361398185, 26.99957861381514, 10.593890181544438, 57.85865846732312, 53.030372288848426, 59.81156820696329, 37.61195313858662, 123.426885226573, 97.39117995857613, 35.694986179152686, 54.952476698991525, 138.6983786508941, 48.25759988223432, 40.487324039246474, 66.60739113340794, 41.49620421779662, 89.5336415384979, 25.073035349115052, 135.94578054290608, 62.78202994632659, 49.245742711821414, 35.63708879050527, 69.45977814175697, 90.79523483151362, 45.38786301885669, 145.50569633380383, 189.70420918103278, 62.829406193426124, 236.3007905865813, 793.1980625140218, 135.29814974627874, 161.03398411558877, 165.2567983044055, 122.54615448701327, 251.92407677669956, 280.6051549180669, 81.8362993518365, 184.361898693637, 132.47185180074928, 175.54834026912, 121.46569418607586, 95.39493602342318, 306.4727202482373, 161.4360556056238, 273.01938601456914, 129.09915082589347, 301.1134031707985, 117.84170377486379, 265.3833318338332, 132.80996956479675, 150.04996102402902], \"Category\": [\"Default\", \"Default\", \"Default\", \"Default\", \"Default\", \"Default\", \"Default\", \"Default\", \"Default\", \"Default\", \"Default\", \"Default\", \"Default\", \"Default\", \"Default\", \"Default\", \"Default\", \"Default\", \"Default\", \"Default\", \"Default\", \"Default\", \"Default\", \"Default\", \"Default\", \"Default\", \"Default\", \"Default\", \"Default\", \"Default\", \"Topic1\", \"Topic1\", \"Topic1\", \"Topic1\", \"Topic1\", \"Topic1\", \"Topic1\", \"Topic1\", \"Topic1\", \"Topic1\", \"Topic1\", \"Topic1\", \"Topic1\", \"Topic1\", \"Topic1\", \"Topic1\", \"Topic1\", \"Topic1\", \"Topic1\", \"Topic1\", \"Topic1\", \"Topic1\", \"Topic1\", \"Topic1\", \"Topic1\", \"Topic1\", \"Topic1\", \"Topic1\", \"Topic1\", \"Topic1\", \"Topic1\", \"Topic1\", \"Topic1\", \"Topic1\", \"Topic1\", \"Topic1\", \"Topic1\", \"Topic1\", \"Topic1\", \"Topic1\", \"Topic1\", \"Topic1\", \"Topic1\", \"Topic1\", \"Topic1\", \"Topic1\", \"Topic1\", \"Topic1\", \"Topic1\", \"Topic1\", \"Topic1\", \"Topic1\", \"Topic1\", \"Topic1\", \"Topic1\", \"Topic1\", \"Topic1\", \"Topic1\", \"Topic1\", \"Topic1\", \"Topic1\", \"Topic1\", \"Topic1\", \"Topic1\", \"Topic1\", \"Topic1\", \"Topic1\", \"Topic1\", \"Topic1\", \"Topic1\", \"Topic1\", \"Topic1\", \"Topic1\", \"Topic1\", \"Topic1\", \"Topic1\", \"Topic2\", \"Topic2\", \"Topic2\", \"Topic2\", \"Topic2\", \"Topic2\", \"Topic2\", \"Topic2\", \"Topic2\", \"Topic2\", \"Topic2\", \"Topic2\", \"Topic2\", \"Topic2\", \"Topic2\", \"Topic2\", \"Topic2\", \"Topic2\", \"Topic2\", \"Topic2\", \"Topic2\", \"Topic2\", \"Topic2\", \"Topic2\", \"Topic2\", \"Topic2\", \"Topic2\", \"Topic2\", \"Topic2\", \"Topic2\", \"Topic2\", \"Topic2\", \"Topic2\", \"Topic2\", \"Topic2\", \"Topic2\", \"Topic2\", \"Topic2\", \"Topic2\", \"Topic2\", \"Topic2\", \"Topic2\", \"Topic2\", \"Topic2\", \"Topic2\", \"Topic2\", \"Topic2\", \"Topic2\", \"Topic2\", \"Topic2\", \"Topic2\", \"Topic2\", \"Topic2\", \"Topic2\", \"Topic2\", \"Topic2\", \"Topic2\", \"Topic2\", \"Topic2\", \"Topic2\", \"Topic2\", \"Topic2\", \"Topic2\", \"Topic2\", \"Topic2\", \"Topic2\", \"Topic2\", \"Topic2\", \"Topic2\", \"Topic2\", \"Topic2\", \"Topic2\", \"Topic2\", \"Topic2\", \"Topic2\", \"Topic2\", \"Topic2\", \"Topic2\", \"Topic3\", \"Topic3\", \"Topic3\", \"Topic3\", \"Topic3\", \"Topic3\", \"Topic3\", \"Topic3\", \"Topic3\", \"Topic3\", \"Topic3\", \"Topic3\", \"Topic3\", \"Topic3\", \"Topic3\", \"Topic3\", \"Topic3\", \"Topic3\", \"Topic3\", \"Topic3\", \"Topic3\", \"Topic3\", \"Topic3\", \"Topic3\", \"Topic3\", \"Topic3\", \"Topic3\", \"Topic3\", \"Topic3\", \"Topic3\", \"Topic3\", \"Topic3\", \"Topic3\", \"Topic3\", \"Topic3\", \"Topic3\", \"Topic3\", \"Topic3\", \"Topic3\", \"Topic3\", \"Topic3\", \"Topic3\", \"Topic3\", \"Topic3\", \"Topic3\", \"Topic3\", \"Topic3\", \"Topic3\", \"Topic3\", \"Topic3\", \"Topic3\", \"Topic3\", \"Topic3\", \"Topic3\", \"Topic3\", \"Topic3\", \"Topic3\", \"Topic3\", \"Topic3\", \"Topic3\", \"Topic3\", \"Topic3\", \"Topic3\", \"Topic3\", \"Topic3\", \"Topic3\", \"Topic3\", \"Topic3\", \"Topic3\", \"Topic3\", \"Topic3\", \"Topic3\", \"Topic3\", \"Topic3\", \"Topic4\", \"Topic4\", \"Topic4\", \"Topic4\", \"Topic4\", \"Topic4\", \"Topic4\", \"Topic4\", \"Topic4\", \"Topic4\", \"Topic4\", \"Topic4\", \"Topic4\", \"Topic4\", \"Topic4\", \"Topic4\", \"Topic4\", \"Topic4\", \"Topic4\", \"Topic4\", \"Topic4\", \"Topic4\", \"Topic4\", \"Topic4\", \"Topic4\", \"Topic4\", \"Topic4\", \"Topic4\", \"Topic4\", \"Topic4\", \"Topic4\", \"Topic4\", \"Topic4\", \"Topic4\", \"Topic4\", \"Topic4\", \"Topic4\", \"Topic4\", \"Topic4\", \"Topic4\", \"Topic4\", \"Topic4\", \"Topic4\", \"Topic4\", \"Topic4\", \"Topic4\", \"Topic4\", \"Topic4\", \"Topic4\", \"Topic4\", \"Topic4\", \"Topic4\", \"Topic4\", \"Topic4\", \"Topic4\", \"Topic4\", \"Topic4\", \"Topic4\", \"Topic4\", \"Topic4\", \"Topic5\", \"Topic5\", \"Topic5\", \"Topic5\", \"Topic5\", \"Topic5\", \"Topic5\", \"Topic5\", \"Topic5\", \"Topic5\", \"Topic5\", \"Topic5\", \"Topic5\", \"Topic5\", \"Topic5\", \"Topic5\", \"Topic5\", \"Topic5\", \"Topic5\", \"Topic5\", \"Topic5\", \"Topic5\", \"Topic5\", \"Topic5\", \"Topic5\", \"Topic5\", \"Topic5\", \"Topic5\", \"Topic5\", \"Topic5\", \"Topic5\", \"Topic5\", \"Topic5\", \"Topic5\", \"Topic5\", \"Topic5\", \"Topic5\", \"Topic5\", \"Topic5\", \"Topic5\", \"Topic5\", \"Topic5\", \"Topic5\", \"Topic5\", \"Topic5\", \"Topic5\", \"Topic5\", \"Topic5\", \"Topic5\", \"Topic5\", \"Topic5\", \"Topic5\", \"Topic5\", \"Topic5\", \"Topic5\", \"Topic5\", \"Topic5\", \"Topic5\", \"Topic5\", \"Topic5\", \"Topic5\", \"Topic5\", \"Topic5\", \"Topic5\", \"Topic5\", \"Topic5\", \"Topic5\", \"Topic5\", \"Topic5\", \"Topic5\", \"Topic5\", \"Topic5\", \"Topic5\", \"Topic5\", \"Topic5\", \"Topic5\", \"Topic5\", \"Topic5\"], \"logprob\": [30.0, 29.0, 28.0, 27.0, 26.0, 25.0, 24.0, 23.0, 22.0, 21.0, 20.0, 19.0, 18.0, 17.0, 16.0, 15.0, 14.0, 13.0, 12.0, 11.0, 10.0, 9.0, 8.0, 7.0, 6.0, 5.0, 4.0, 3.0, 2.0, 1.0, -6.1393, -6.3414, -6.503, -6.6612, -6.732, -6.7699, -6.9351, -6.9355, -7.0296, -6.8987, -7.0815, -6.7885, -7.2503, -5.9087, -7.2511, -7.2511, -6.348, -7.3145, -6.4237, -7.382, -6.0121, -7.3835, -7.455, -7.4551, -7.4551, -7.4553, -7.4553, -7.4555, -7.4555, -7.0525, -6.0959, -6.6369, -6.4556, -6.5636, -6.9769, -5.7257, -5.6511, -6.9027, -6.8066, -5.9665, -5.9725, -6.8442, -6.4922, -6.1742, -6.5161, -6.1662, -6.2012, -6.6969, -6.5852, -5.7643, -5.8688, -6.1915, -6.1767, -6.2559, -5.8674, -6.0124, -5.3897, -5.6948, -6.0773, -5.6413, -5.7237, -5.7759, -5.9838, -5.6852, -5.79, -5.9257, -5.7612, -5.8173, -6.1151, -5.9003, -5.943, -6.0294, -6.0204, -6.0618, -6.088, -6.0547, -6.9734, -7.1208, -7.1212, -7.2938, -7.342, -6.3801, -7.5626, -6.7623, -7.5131, -6.6422, -5.6557, -7.9329, -7.9329, -7.5843, -7.9334, -7.3738, -8.1293, -7.0012, -8.1351, -7.666, -7.8006, -8.2439, -8.244, -7.0394, -7.1136, -8.3735, -8.3737, -8.376, -6.7463, -7.5131, -5.9659, -6.7789, -6.6585, -6.8029, -5.1744, -6.4535, -6.6102, -6.3846, -6.389, -6.1325, -6.0682, -7.1433, -7.2152, -6.1113, -6.5412, -5.8158, -6.1713, -5.9763, -6.576, -4.7207, -5.9987, -5.3904, -6.2498, -5.8708, -5.9515, -6.2912, -5.8335, -5.4335, -6.2258, -5.2803, -6.1189, -6.2048, -6.0947, -5.9928, -6.0448, -5.8183, -5.7082, -5.8194, -5.8034, -5.937, -6.1177, -6.0545, -6.1242, -5.9847, -6.0153, -6.0575, -6.0848, -6.1091, -5.7478, -6.2592, -6.2356, -6.337, -6.708, -6.4556, -6.855, -6.9499, -7.0009, -7.001, -7.1116, -6.698, -7.2359, -7.2361, -7.3045, -7.3407, -7.4169, -7.4169, -7.2744, -7.4574, -7.4574, -6.6333, -7.5001, -7.2771, -7.5437, -7.6381, -7.6382, -7.6889, -6.8139, -6.3556, -6.5476, -6.819, -6.9057, -6.9069, -6.8641, -6.6444, -6.2672, -6.791, -5.0717, -6.0131, -4.9172, -6.8898, -6.1248, -6.1394, -6.4725, -5.9051, -5.3373, -5.6316, -6.2703, -4.6746, -6.2961, -6.2137, -6.6244, -6.4472, -5.5622, -6.1646, -6.1152, -5.9624, -5.3187, -5.7123, -5.7043, -5.8862, -5.6558, -5.7414, -5.9916, -5.8486, -5.9118, -5.7714, -6.1674, -6.1447, -6.1103, -6.1133, -6.0999, -6.1761, -6.2955, -5.423, -6.7557, -5.608, -5.1954, -4.7098, -6.3082, -5.7862, -6.0683, -6.5078, -7.6768, -5.6938, -6.7491, -6.1288, -6.4743, -6.9324, -7.0127, -5.7524, -4.9805, -5.461, -6.5506, -7.6545, -6.67, -6.4025, -6.9941, -6.3532, -6.5633, -6.2178, -7.4571, -7.7242, -6.2015, -5.6999, -5.9848, -6.0335, -5.0102, -6.0532, -5.9069, -5.9138, -4.9149, -5.2599, -4.9563, -5.241, -5.6756, -5.9244, -5.9083, -5.3194, -5.2097, -5.0699, -5.4723, -5.6216, -5.4002, -5.3977, -5.2061, -5.6583, -5.7333, -5.5056, -5.3749, -5.864, -5.8314, -5.8451, -6.7522, -6.7522, -6.5911, -6.4838, -7.1006, -7.1007, -7.154, -7.2705, -7.2706, -7.3343, -5.5008, -7.335, -7.3367, -7.4024, -7.4026, -7.4028, -7.4755, -7.283, -7.5541, -5.6419, -7.2893, -7.6394, -7.6397, -7.6402, -7.6401, -7.6403, -7.0859, -7.0859, -6.7973, -7.7333, -6.0368, -6.1257, -6.0111, -6.4732, -5.3149, -5.556, -6.5418, -6.1336, -5.2705, -6.2718, -6.4408, -5.9862, -6.4271, -5.7297, -6.8974, -5.418, -6.1017, -6.3219, -6.6025, -6.0374, -5.8159, -6.399, -5.4407, -5.2413, -6.1425, -5.0772, -4.1576, -5.5441, -5.4131, -5.4204, -5.649, -5.1377, -5.0761, -5.9508, -5.3931, -5.6208, -5.4623, -5.7029, -5.8563, -5.2386, -5.6103, -5.4103, -5.7567, -5.4192, -5.7953, -5.5479, -5.7743, -5.795], \"loglift\": [30.0, 29.0, 28.0, 27.0, 26.0, 25.0, 24.0, 23.0, 22.0, 21.0, 20.0, 19.0, 18.0, 17.0, 16.0, 15.0, 14.0, 13.0, 12.0, 11.0, 10.0, 9.0, 8.0, 7.0, 6.0, 5.0, 4.0, 3.0, 2.0, 1.0, 1.7298, 1.7262, 1.7229, 1.7188, 1.717, 1.7155, 1.7106, 1.7103, 1.7071, 1.7044, 1.704, 1.698, 1.6978, 1.6977, 1.697, 1.697, 1.695, 1.6942, 1.6936, 1.6912, 1.6909, 1.6897, 1.6872, 1.6872, 1.6871, 1.687, 1.6869, 1.6867, 1.6867, 1.6837, 1.6786, 1.6781, 1.6612, 1.6611, 1.6684, 1.6115, 1.5962, 1.6584, 1.6415, 1.5657, 1.5539, 1.6395, 1.5753, 1.5087, 1.5734, 1.4674, 1.448, 1.5953, 1.5548, 1.2651, 1.2898, 1.3827, 1.3662, 1.3614, 1.0963, 1.1858, 0.7652, 0.914, 1.1864, 0.7376, 0.7722, 0.7895, 0.9439, 0.4386, 0.4978, 0.7002, 0.247, 0.3568, 1.0414, 0.1114, 0.2464, 0.6244, 0.3228, 0.6035, 0.7157, -0.9974, 1.3904, 1.3862, 1.3858, 1.3803, 1.3787, 1.3771, 1.3697, 1.3672, 1.3626, 1.362, 1.355, 1.3481, 1.3481, 1.3478, 1.3476, 1.3468, 1.3344, 1.3294, 1.3285, 1.3272, 1.3258, 1.3253, 1.3253, 1.3247, 1.3188, 1.3138, 1.3135, 1.3112, 1.311, 1.3082, 1.3022, 1.3028, 1.3012, 1.2978, 1.248, 1.2856, 1.2839, 1.2733, 1.2658, 1.2385, 1.209, 1.2889, 1.2932, 1.1742, 1.2183, 1.1243, 1.1655, 1.1248, 1.2029, 0.8109, 1.084, 0.887, 1.1103, 0.9885, 0.9902, 1.1026, 0.9298, 0.7559, 1.0656, 0.6401, 1.0066, 0.9697, 0.8804, 0.7525, 0.7841, 0.5409, 0.3177, 0.3547, 0.2819, 0.4747, 0.7872, 0.5891, 0.6732, 0.1344, 0.1436, 0.3429, 0.3397, 0.2341, 1.1047, 1.1041, 1.1034, 1.1034, 1.0987, 1.098, 1.0964, 1.0947, 1.0937, 1.0936, 1.0913, 1.0898, 1.0884, 1.0882, 1.0866, 1.0855, 1.0835, 1.0835, 1.0828, 1.0822, 1.0822, 1.082, 1.0805, 1.0802, 1.0794, 1.0761, 1.076, 1.0741, 1.0731, 1.0718, 1.0674, 1.0682, 1.0684, 1.0676, 1.0656, 1.0554, 1.0383, 1.0555, 0.9645, 1.0092, 0.8527, 1.0409, 0.9518, 0.9027, 0.9576, 0.8382, 0.6743, 0.7288, 0.8774, 0.3827, 0.8801, 0.849, 0.9768, 0.9052, 0.5231, 0.7528, 0.7271, 0.6184, 0.2129, 0.4465, 0.4149, 0.5383, 0.3701, 0.4108, 0.5009, 0.3403, 0.3761, 0.149, 0.6107, 0.4822, 0.2489, 0.1641, -0.0035, -0.0212, 2.5497, 2.5464, 2.5181, 2.517, 2.5153, 2.5137, 2.434, 2.4069, 2.3941, 2.3759, 2.3599, 2.3507, 2.3017, 2.2599, 2.255, 2.2507, 2.2431, 2.2396, 2.2337, 2.2304, 2.2251, 2.2189, 2.2029, 2.1971, 2.1895, 2.1735, 2.1674, 2.1649, 2.1629, 2.1463, 2.1155, 2.0863, 2.0897, 2.0885, 1.9043, 2.043, 1.9896, 1.9592, 1.5334, 1.6142, 1.444, 1.4474, 1.731, 1.8904, 1.8679, 1.3075, 1.1888, 1.0493, 1.4104, 1.5348, 1.1795, 1.1639, 0.8198, 1.4092, 1.4701, 0.9062, 0.5455, 1.3902, 1.0136, 1.0899, 1.6859, 1.6858, 1.6827, 1.6756, 1.6741, 1.674, 1.672, 1.6668, 1.6668, 1.6638, 1.6634, 1.663, 1.6613, 1.6603, 1.66, 1.6598, 1.6562, 1.6545, 1.6518, 1.6502, 1.6478, 1.6466, 1.6463, 1.6458, 1.6458, 1.6457, 1.6406, 1.6406, 1.6402, 1.6398, 1.6386, 1.6368, 1.6311, 1.6328, 1.6028, 1.5986, 1.6166, 1.5933, 1.5305, 1.585, 1.5916, 1.5484, 1.5807, 1.5091, 1.6142, 1.4031, 1.492, 1.5146, 1.5574, 1.4553, 1.4089, 1.5191, 1.3125, 1.2466, 1.4504, 1.1911, 0.8997, 1.2817, 1.2386, 1.2055, 1.2759, 1.0665, 1.0204, 1.3778, 1.1234, 1.2262, 1.1032, 1.2309, 1.319, 0.7696, 1.039, 0.7136, 1.116, 0.6067, 1.1687, 0.6043, 1.0701, 0.9274]}, \"token.table\": {\"Topic\": [1, 2, 3, 4, 5, 1, 2, 3, 2, 4, 2, 3, 3, 4, 2, 3, 4, 5, 2, 3, 4, 2, 3, 4, 3, 5, 1, 1, 2, 3, 4, 5, 1, 2, 3, 4, 5, 1, 2, 3, 4, 5, 3, 4, 3, 1, 2, 3, 4, 5, 1, 2, 3, 5, 3, 5, 1, 5, 1, 1, 1, 4, 1, 3, 5, 3, 1, 2, 3, 4, 5, 1, 2, 3, 4, 5, 1, 3, 4, 1, 2, 3, 4, 5, 1, 2, 4, 5, 3, 4, 5, 1, 3, 3, 1, 3, 5, 1, 2, 1, 2, 3, 4, 5, 1, 2, 3, 5, 3, 2, 4, 2, 4, 5, 1, 2, 3, 5, 1, 3, 2, 3, 4, 1, 3, 1, 2, 3, 5, 1, 2, 3, 4, 5, 3, 4, 5, 2, 3, 4, 5, 1, 2, 3, 4, 5, 1, 3, 4, 5, 1, 2, 3, 5, 1, 1, 2, 3, 4, 5, 1, 2, 3, 4, 5, 1, 2, 3, 3, 2, 3, 5, 3, 1, 2, 3, 4, 5, 2, 3, 4, 5, 3, 1, 3, 4, 1, 2, 5, 1, 2, 3, 1, 3, 5, 1, 2, 3, 4, 2, 3, 1, 3, 4, 5, 2, 3, 2, 3, 2, 3, 4, 5, 3, 2, 1, 2, 3, 5, 5, 2, 3, 4, 1, 2, 3, 4, 5, 5, 2, 3, 3, 1, 2, 3, 4, 2, 2, 1, 2, 3, 4, 1, 2, 3, 5, 1, 2, 3, 4, 5, 1, 2, 3, 5, 1, 2, 3, 1, 2, 3, 4, 2, 1, 3, 2, 3, 4, 2, 1, 2, 3, 4, 5, 1, 2, 3, 2, 2, 5, 2, 3, 1, 2, 3, 5, 2, 3, 1, 3, 4, 5, 3, 4, 2, 3, 5, 1, 1, 4, 5, 2, 3, 4, 5, 1, 4, 2, 3, 2, 5, 1, 3, 2, 5, 1, 3, 5, 1, 1, 2, 3, 4, 5, 1, 5, 3, 1, 2, 3, 4, 5, 2, 3, 2, 3, 5, 3, 5, 1, 2, 3, 5, 1, 2, 1, 2, 3, 4, 5, 1, 3, 5, 2, 3, 4, 5, 1, 3, 5, 5, 1, 5, 5, 1, 2, 3, 4, 5, 3, 4, 5, 5, 5, 1, 2, 3, 4, 5, 1, 3, 5, 1, 1, 5, 1, 1, 2, 3, 4, 5, 1, 1, 2, 3, 4, 5, 3, 1, 2, 1, 2, 3, 4, 5, 2, 1, 2, 4, 2, 3, 1, 2, 3, 4, 1, 2, 3, 4, 5, 1, 3, 4, 1, 2, 2, 1, 2, 3, 4, 5, 1, 2, 3, 4, 5, 1, 2, 3, 4, 3, 5, 3, 2, 3, 3, 1, 3, 4, 5, 1, 2, 3, 4, 5, 2, 3, 5, 2, 3, 4, 1, 3, 1, 2, 3, 5, 1, 2, 3, 4, 5, 1, 1, 2, 3, 4, 5, 2, 5, 1, 2, 3, 4, 5, 5, 5, 5, 1, 2, 3, 4, 5, 1, 2, 3, 5, 2, 3, 4, 1, 2, 3, 4, 2, 1, 2, 3, 4, 5, 1, 3, 5, 2, 3, 5, 5, 2, 3, 1, 2, 3, 5, 1, 2, 3, 4, 2, 4, 1, 3, 1, 2, 3, 4, 1, 2, 3, 4, 5, 1, 2, 3, 5, 1, 2, 3, 4, 3, 3, 5, 2, 4, 1, 2, 3, 4, 5, 1, 3, 5, 2, 1, 2, 3, 4, 5, 2, 3, 1, 3, 4, 5, 5, 3, 2, 3, 4, 5, 1, 2, 3, 5, 2, 3, 4, 1, 1, 5, 1, 2, 1, 3, 5, 1, 2, 3, 4, 5, 1, 2, 3, 4, 5, 1, 2, 3, 1, 2, 4, 1, 1, 1, 1, 2, 3, 4, 5, 2, 3, 4, 1, 2, 3, 4, 5, 1, 4, 1, 2, 3, 4, 5, 1, 1, 2, 4, 5, 2, 3, 1, 2, 3, 4, 2, 3, 4, 2, 5, 1, 4, 3, 1, 2, 3, 4, 5, 2, 1, 2, 3, 4, 1, 2, 3, 1, 2, 3, 2, 3, 4, 5, 1, 2, 3, 4, 2, 2, 3, 2, 5, 2, 4, 3, 5, 4, 2, 4, 1, 2, 3, 4, 5, 3, 3, 1, 2, 3, 4, 2, 4, 1, 2, 3, 4, 5, 2, 3, 4, 5, 2, 5, 1, 2, 3, 4, 5, 1, 5, 1, 2, 3, 4, 5, 1, 2, 2, 3, 1, 1, 2, 3, 4, 5, 2, 3, 5, 1, 2, 3, 5, 1, 2, 4, 1, 2, 3, 4, 5, 2, 3, 4, 5, 3, 2, 3, 1, 2, 3, 4, 5, 2, 3, 4, 5, 1, 2, 3, 4, 5, 1, 2, 3, 4, 5, 3, 4, 5, 5, 1, 3, 5, 1, 2, 3, 1, 2, 3, 4, 5, 5, 5, 3, 1, 5, 1, 2, 3, 4, 5, 2, 3, 4, 5, 3, 4, 1, 2, 3, 4, 5, 3, 4, 3, 5, 5, 3, 5, 1, 2, 3, 4, 5, 3, 4, 2, 3, 4, 5, 1, 2, 2, 3, 4, 2, 4, 1, 2, 3, 4, 5, 1, 2, 3, 4, 5, 1, 2, 3, 4, 5, 5, 5, 3, 3, 4, 2, 3, 4, 5, 1, 2, 3, 4, 5, 1, 2, 3, 4, 1, 2, 3, 5, 2, 3, 4, 2, 3, 4, 5, 1, 3, 5, 1, 2, 3, 4, 5, 1, 2, 3, 4, 5, 3, 1, 2, 3, 5, 3, 1, 3, 5, 1, 2, 3, 4, 5, 1, 1, 2, 3, 5, 1, 2, 3, 5, 5, 1, 2, 3, 4, 5, 1, 2, 3, 4, 5, 2, 3, 5, 1, 1, 1, 3, 5, 1, 3, 5, 1, 2, 3, 5], \"Freq\": [0.08106077281954019, 0.32071870985122425, 0.5533278840290352, 0.04229257712323836, 0.00352438142693653, 0.09934307392498404, 0.6495508679710494, 0.24453679735380685, 0.3104772557033814, 0.6209545114067628, 0.9318591357129568, 0.06656136683663977, 0.15567805932198067, 0.6227122372879227, 0.411068045007473, 0.1783880195315449, 0.37228804076148503, 0.03878000424598802, 0.866271644699015, 0.06794287409404039, 0.050957155570530294, 0.20284872494150505, 0.6761624164716835, 0.12020665181718819, 0.0797669676667444, 0.9173201281675607, 0.9741520128739297, 0.11379693291341869, 0.28069910118643276, 0.5120861981103841, 0.015172924388455826, 0.07586462194227912, 0.0954726921172432, 0.5114608506280885, 0.30687651037685315, 0.06137530207537063, 0.01363895601674903, 0.04242980065488942, 0.016971920261955768, 0.33943840523911534, 0.02545788039293365, 0.5770452889064961, 0.17359077485976465, 0.8100902826789018, 0.9828329191616172, 0.11618036111684782, 0.655589180587927, 0.08298597222631987, 0.14937475000737577, 0.008298597222631987, 0.13872324326424754, 0.016320381560499708, 0.1958445787259965, 0.6446550716397385, 0.08404541704941523, 0.8964844485270957, 0.9517883280678042, 0.032264011120942515, 0.9722526172035447, 0.9741576821733936, 0.3124242325348189, 0.7029545232033425, 0.11224261396642797, 0.028060653491606993, 0.8418196047482097, 0.9793120937505323, 0.35425157231932286, 0.1807405981221035, 0.21688871774652418, 0.04337774354930484, 0.20242946989675592, 0.3210270140942918, 0.19513406739064795, 0.15107153604437262, 0.012589294670364385, 0.3210270140942918, 0.29793799504052454, 0.049656332506754094, 0.6455323225878032, 0.1560125469692086, 0.1155648496068212, 0.47959412586830796, 0.2426861841743245, 0.01155648496068212, 0.07500202690406184, 0.07500202690406184, 0.7750209446753056, 0.07500202690406184, 0.02709608981099212, 0.9212670535737321, 0.05419217962198424, 0.9220712255888422, 0.04191232843585647, 0.9744577833246202, 0.20773177837517282, 0.073317098250061, 0.7087319497505896, 0.17252676018258614, 0.8051248808520686, 0.014488654645459153, 0.3428981599425333, 0.24147757742431922, 0.31875040220010137, 0.08693192787275492, 0.16766647206976906, 0.06209869335917373, 0.14903686406201694, 0.6209869335917373, 0.9591397518837913, 0.18329114014668094, 0.7331645605867237, 0.05022907035730923, 0.853894196074257, 0.05022907035730923, 0.5684622112247797, 0.128708425182969, 0.23596544616877646, 0.0643542125914845, 0.9441377745427908, 0.9899884793424482, 0.07594245375893523, 0.07594245375893523, 0.8353669913482875, 0.9486516520414794, 0.0499290343179726, 0.015013348863898603, 0.030026697727797206, 0.10509344204729022, 0.8407475363783218, 0.134566153463553, 0.1113650925215611, 0.6821111916945617, 0.009280424376796758, 0.0649629706375773, 0.16605989807932905, 0.7116852774828388, 0.14233705549656775, 0.14024206905238706, 0.14024206905238706, 0.6661498279988385, 0.07012103452619353, 0.4937506042054664, 0.020572941841894433, 0.0617188255256833, 0.3497400113122054, 0.07200529644663052, 0.8750412258963172, 0.08627167015879184, 0.012324524308398834, 0.012324524308398834, 0.6159925800329845, 0.13588071618374659, 0.17211557383274567, 0.0634110008857484, 0.9615013545113427, 0.04799472069490532, 0.535941047759776, 0.26397096382197927, 0.007999120115817554, 0.14398416208471596, 0.11933051327790052, 0.06508937087885483, 0.24408514079570562, 0.010848228479809138, 0.5532596524702661, 0.008995269372571665, 0.08995269372571664, 0.8995269372571665, 0.9569940311736054, 0.013488034277950492, 0.9576504337344849, 0.013488034277950492, 0.9844671379165955, 0.028735500560686113, 0.4741357592513209, 0.31609050616754725, 0.13649362766325904, 0.0502871259812007, 0.904632387389116, 0.1742204211397447, 0.6533265792740426, 0.1306653158548085, 0.9794722110286874, 0.07806259970891666, 0.15612519941783332, 0.70256339738025, 0.9137510864054993, 0.02687503195310292, 0.02687503195310292, 0.013041486873226437, 0.7303232649006806, 0.24778825059130233, 0.018857118229401653, 0.037714236458803306, 0.9239987932406811, 0.027050905328705927, 0.09467816865047074, 0.8521035178542367, 0.027050905328705927, 0.14245818355396941, 0.8547491013238164, 0.03764305042663346, 0.6305210946461105, 0.3011444034130677, 0.028232287819975097, 0.8851268726106312, 0.0737605727175526, 0.9110037355926933, 0.06073358237284623, 0.15456915237157579, 0.20609220316210103, 0.5925150840910405, 0.02576152539526263, 0.9725476529892217, 0.9187787234136128, 0.6288039748562181, 0.051541309414444104, 0.2680148089551093, 0.051541309414444104, 0.9517514675357239, 0.17205916261253892, 0.34411832522507785, 0.4779421183681637, 0.12619830137034957, 0.2158655155019137, 0.26235962653309514, 0.06642015861597345, 0.3287797851490686, 0.9517083431656475, 0.03254281326019711, 0.9600129911758147, 0.9844669617265107, 0.00644174593019097, 0.33497078836993044, 0.34141253430012136, 0.3156455505793575, 0.9300856341371139, 0.9470150100301963, 0.03456048403642604, 0.8442632528898361, 0.11355587611968555, 0.00493721200520372, 0.04050981267834451, 0.008101962535668902, 0.048611775214013414, 0.8912158789235792, 0.3816612557959097, 0.02848218326835147, 0.02848218326835147, 0.017089309961010882, 0.541161482098678, 0.07198410553220817, 0.057587284425766536, 0.10077774774509143, 0.7774283397478482, 0.9280434092104954, 0.029936884168080498, 0.029936884168080498, 0.07344524213737742, 0.11541395193016453, 0.7869133086147582, 0.010492177448196775, 0.9046384954430745, 0.01798844058543954, 0.9713757916137352, 0.167903721335639, 0.0839518606678195, 0.671614885342556, 0.9528564190348682, 0.03527198623452828, 0.07054397246905655, 0.07054397246905655, 0.7054397246905656, 0.07054397246905655, 0.03441336502232649, 0.8947474905804887, 0.03441336502232649, 0.9301097325988826, 0.9038401340746276, 0.06456000957675911, 0.921169012209175, 0.07369352097673401, 0.041071481028377925, 0.010267870257094481, 0.05133935128547241, 0.8933047123672199, 0.9566329982726347, 0.03751501954010333, 0.02632810585402297, 0.31593727024827567, 0.5792183287885053, 0.05265621170804594, 0.28620853330565216, 0.6869004799335652, 0.03185624933933856, 0.1592812466966928, 0.796406233483464, 0.9256464688410134, 0.02200070915349447, 0.9240297844467678, 0.05500177288373617, 0.05506896930525452, 0.1982482894989163, 0.011013793861050905, 0.7379241886904105, 0.8647201502415655, 0.12810668892467636, 0.9424926839428659, 0.05334864248733203, 0.8697654819600587, 0.054360342622503666, 0.8921305307952999, 0.07757656789524348, 0.9718741368081792, 0.9517175033513678, 0.836867951466243, 0.10460849393328038, 0.05230424696664019, 0.9578186875390585, 0.8561345703469039, 0.05632464278598052, 0.022529857114392208, 0.011264928557196104, 0.045059714228784416, 0.950209312275789, 0.03276583835433755, 0.9809865985032876, 0.03546487060514116, 0.18239076311215455, 0.4205120371752452, 0.34451588587851417, 0.015199230259346214, 0.02330070586165147, 0.9553289403277102, 0.022032321715268754, 0.15422625200688128, 0.815195903464944, 0.22282559788802886, 0.7639734784732418, 0.052841414269113485, 0.052841414269113485, 0.27175584481258364, 0.6114506508283132, 0.8983741089627977, 0.07486450908023314, 0.22187945453977517, 0.2153535882297818, 0.159883724594838, 0.013051732619986775, 0.3882890454446066, 0.192432328805639, 0.1374516634325993, 0.6666405676481065, 0.2770769796502794, 0.4958219635847105, 0.21509923420219057, 0.010937249196721555, 0.6849124155670556, 0.13045950772705822, 0.17938182312470505, 0.974715346543754, 0.028045062070442998, 0.9535321103950619, 0.915916295093563, 0.26368825673269275, 0.030135800769450598, 0.14314505365489036, 0.20341665519379154, 0.35409565904104456, 0.29806527578963155, 0.4967754596493859, 0.19871018385975436, 0.9730614541741511, 0.9768462100947967, 0.24174573038717403, 0.30560309313095585, 0.30560309313095585, 0.013683720587953247, 0.13227596568354805, 0.7836299372662827, 0.13931198884733914, 0.05224199581775218, 0.9256513114741095, 0.9410965765066315, 0.026888473614475186, 0.9578246004474835, 0.37405980330450694, 0.06801087332809216, 0.3211624573826575, 0.022670291109364055, 0.21158938368739785, 0.9741549473904453, 0.2891470555610984, 0.0129468830848253, 0.4790346741385361, 0.01726251077976707, 0.2071501293572048, 0.9860063417652584, 0.07951482530703284, 0.8746630783773613, 0.13728531506930836, 0.5834625890445605, 0.20592797260396253, 0.06864265753465418, 0.008580332191831772, 0.9469956892201588, 0.819069471914728, 0.029784344433262836, 0.13402954994968277, 0.8991178365429474, 0.10577856900505263, 0.012609753805565662, 0.7313657207228084, 0.2017560608890506, 0.037829261416696985, 0.007414033808480256, 0.5338104342105784, 0.19276487902048667, 0.1705227775950459, 0.09638243951024333, 0.029005032294647747, 0.11602012917859099, 0.8411459365447848, 0.04802570167645254, 0.9365011826908245, 0.9185247370034224, 0.04142761769272887, 0.7456971184691197, 0.11599732953964083, 0.04971314123127464, 0.04971314123127464, 0.14537888982903407, 0.0302872687143821, 0.533055929373125, 0.2786428721723153, 0.01817236122862926, 0.7029720983022675, 0.015621602184494834, 0.21870243058292768, 0.0468648065534845, 0.9434523369838724, 0.041019666825385756, 0.9768431741031636, 0.007590279912073775, 0.9943266684816645, 0.9838088129603835, 0.05584493062141438, 0.10052087511854588, 0.022337972248565752, 0.81533598707265, 0.11069865076087962, 0.047442278897519834, 0.1844977512681327, 0.03162818593167989, 0.6272923543116512, 0.9187716782342567, 0.9855314101504207, 0.9639411711420359, 0.04211997866399731, 0.40013979730797444, 0.5264997332999664, 0.023311842609143683, 0.9557855469748909, 0.7408452327477385, 0.016837391653357694, 0.16837391653357694, 0.06734956661343078, 0.32358901133774504, 0.006222865602648943, 0.23646889290065984, 0.01866859680794683, 0.41070912977483026, 0.9790896890107273, 0.08232777219122289, 0.07409499497210059, 0.19758665325893493, 0.024698331657366866, 0.6174582914341716, 0.8819263692501325, 0.10755199625001616, 0.04955522463670322, 0.20441530162640079, 0.22919291394475239, 0.012388806159175805, 0.507941052526208, 0.9730763360115824, 0.9517097050073359, 0.9858883092379247, 0.15658009399017686, 0.059246522050337196, 0.18197146058317853, 0.008463788864333886, 0.5924652205033719, 0.3509689198574641, 0.006051188273404553, 0.04235831791383187, 0.5990676390670507, 0.19699973291830142, 0.1641664440985845, 0.6238324875746212, 0.03911460556009659, 0.32856268670481137, 0.32073976559279205, 0.3050939233687534, 0.9046428264865377, 0.14717370237100863, 0.14717370237100863, 0.13168173370037614, 0.023237953005948733, 0.5499648878074533, 0.011780964110340734, 0.04712385644136294, 0.9424771288272588, 0.016719173731405017, 0.05015752119421505, 0.9195545552272759, 0.9831898306255158, 0.9338892717019857, 0.049152066931683454, 0.08196570731822694, 0.08909316012850754, 0.3278628292729078, 0.49892169671964226, 0.035109062240123376, 0.7841023900294222, 0.058515103733538965, 0.11703020746707793, 0.24165871186106458, 0.6041467796526615, 0.06693917081082618, 0.9371483913515665, 0.009732843466913986, 0.7494289469523769, 0.2238553997390217, 0.019465686933827973, 0.02039311611682461, 0.05098279029206152, 0.7851349704977474, 0.030589674175236913, 0.11216213864253534, 0.07045682876017785, 0.3029643636687647, 0.6059287273375294, 0.021137048628053354, 0.01619896889236239, 0.25918350227779824, 0.6965556623715828, 0.01619896889236239, 0.9725472889512968, 0.04146839886652823, 0.9537731739301492, 0.023190048030782128, 0.9507919692620672, 0.056562677261490744, 0.08998607746146255, 0.7713092353839647, 0.010284123138452863, 0.07455989275378325, 0.1964403503530886, 0.6449791503259743, 0.16042628612168902, 0.9854327180416813, 0.12050210568717733, 0.4171226735325369, 0.42175736990512064, 0.0324428746080862, 0.009269392745167486, 0.17518955760064903, 0.8133800888601562, 0.1932689605654475, 0.29990011122224614, 0.05331557532839931, 0.4531823902913942, 0.9439403116922005, 0.9868209839771622, 0.057927642431207516, 0.2896382121560376, 0.598585638455811, 0.057927642431207516, 0.182594695150053, 0.06351119831306191, 0.2302280938848494, 0.5239673860827607, 0.8822560731592092, 0.025948708034094388, 0.07784612410228317, 0.9791220667782539, 0.9741526684057149, 0.9634725739339246, 0.9890743853999018, 0.9528265117236375, 0.05505003614258295, 0.8074005300912166, 0.13762509035645737, 0.011304402500600212, 0.13565283000720255, 0.4936255758595426, 0.026376939168067163, 0.32782767251740613, 0.10970901136167106, 0.6682276146574511, 0.14960319731136965, 0.05984127892454785, 0.019947092974849284, 0.762552570014955, 0.14919506804640426, 0.08288614891466903, 0.9352043405511186, 0.03817160573678035, 0.019085802868390175, 0.9179392097621818, 0.9791471645133369, 0.9256748213294932, 0.3772830856334123, 0.11690461808359252, 0.14878769574275413, 0.0956492329774848, 0.26037846754981975, 0.8124890662796307, 0.15089082659478856, 0.03482095998341274, 0.06159427246005765, 0.7760878329967265, 0.08623198144408072, 0.024637708984023062, 0.049275417968046124, 0.9723968908369188, 0.038895875633476754, 0.681304770371491, 0.030280212016510707, 0.15140106008255355, 0.015140106008255353, 0.10598074205778749, 0.9860618477954795, 0.844263808278741, 0.05116750353204491, 0.025583751766022456, 0.07675125529806737, 0.02135750017173801, 0.9610875077282105, 0.02156171772357219, 0.19405545951214972, 0.452796072195016, 0.32342576585358285, 0.047757741253253286, 0.931275954438439, 0.023878870626626643, 0.8413699518855186, 0.1529763548882761, 0.3239285314125435, 0.647857062825087, 0.9860075615450901, 0.016778246177388143, 0.10066947706432886, 0.8624018535177506, 0.013422596941910515, 0.010066947706432886, 0.9470315267248155, 0.023545766014924658, 0.7063729804477398, 0.0824101810522363, 0.18836612811939726, 0.02135357648387658, 0.5893587109549936, 0.3886350920065538, 0.018419902482898036, 0.8841553191791057, 0.09209951241449017, 0.07628658406242188, 0.20706358531228797, 0.6974773399992857, 0.01089808343748884, 0.024737563808353954, 0.3413783805552845, 0.5640164548304701, 0.06926517866339106, 0.983250370750613, 0.8841658790425612, 0.11052073488032015, 0.04944613676342224, 0.9394765985050224, 0.2597067713369071, 0.6752376054759585, 0.961267917644498, 0.04272301856197769, 0.9464887911259556, 0.9526529003928697, 0.027218654296939135, 0.011342752605708705, 0.2949115677484263, 0.37431083598838727, 0.2949115677484263, 0.02268550521141741, 0.9750809084793693, 0.9768403988953387, 0.07644785055488126, 0.7166985989520118, 0.2006756077065633, 0.009555981319360158, 0.9116447680965697, 0.07597039734138081, 0.043126404871509136, 0.043126404871509136, 0.23719522679330024, 0.5390800608938642, 0.12937921461452742, 0.8971779567590088, 0.04600912598764148, 0.04600912598764148, 0.01150228149691037, 0.0494461283003565, 0.9394764377067736, 0.3640015683070266, 0.04254563785406805, 0.21272818927034023, 0.0756366895183432, 0.3025467580733728, 0.9118002475876289, 0.04559001237938145, 0.5259217089368754, 0.11027390671257066, 0.22054781342514132, 0.04241304104329641, 0.11027390671257066, 0.9486184299183297, 0.024963642892587623, 0.044575428375139545, 0.9583717100655001, 0.9741590756959436, 0.06429667747593426, 0.002521438332389579, 0.4815947214864096, 0.010085753329558316, 0.4425124273343711, 0.02658729251085039, 0.02658729251085039, 0.9305552378797638, 0.08676863807691229, 0.15039897266664798, 0.6073804665383861, 0.15618354853844213, 0.8387046340123858, 0.13479181618056202, 0.029953736929013777, 0.4500789265498902, 0.16366506419996008, 0.2618641027199361, 0.016366506419996006, 0.11456554493997205, 0.2060999770550936, 0.5358599403432434, 0.2225879752195011, 0.032975996328814976, 0.9591553245263705, 0.019340220358765058, 0.967011017938253, 0.019539440262370558, 0.39078880524741116, 0.3614796448538553, 0.18562468249252032, 0.039078880524741115, 0.6389665077890987, 0.2513966588022683, 0.08379888626742278, 0.020949721566855695, 0.43425179239339484, 0.26174080637410096, 0.17845964070961431, 0.029743273451602385, 0.09517847504512764, 0.008075401576004752, 0.2907144567361711, 0.12920642521607603, 0.5006748977122947, 0.06460321260803802, 0.07162617253160464, 0.9311402429108603, 0.9858899031337279, 0.9768477215452338, 0.8252089287645273, 0.16504178575290546, 0.9582901527795727, 0.15040708577895098, 0.8272389717842304, 0.037601771444737746, 0.1735452677631432, 0.2313936903508576, 0.13980035458697646, 0.2458557959977862, 0.21211088282161947, 0.9688069165035875, 0.9634718147843118, 0.987739922495069, 0.9741594027809167, 0.973085683757397, 0.020258277817634604, 0.5449476732943709, 0.40719138413445555, 0.024309933381161525, 0.0020258277817634604, 0.4602385380527852, 0.3825359277321851, 0.12850816322253092, 0.02988561935407696, 0.29859720022143643, 0.7025816475798504, 0.22456631313932465, 0.03962934937752788, 0.2641956625168525, 0.422713060026964, 0.0528391325033705, 0.2479220140364632, 0.6941816393020969, 0.10361062324280064, 0.8703292352395253, 0.9155906582008514, 0.03703761507923387, 0.9259403769808469, 0.06942763081683233, 0.6109631511881245, 0.2568822340222796, 0.0416565784900994, 0.0208282892450497, 0.20515650877314198, 0.7522405321681872, 0.37449593869143005, 0.3517992151343737, 0.23831559734909186, 0.03404508533558455, 0.9416918597765407, 0.03553554187836003, 0.8635719018658128, 0.10159669433715444, 0.01693278238952574, 0.9633156388043335, 0.9401648607986176, 0.14675831426274508, 0.04193094693221287, 0.12579284079663863, 0.010482736733053218, 0.670895150915406, 0.158120659682512, 0.05270688656083733, 0.22588665668930283, 0.037647776114883805, 0.5270688656083733, 0.03604944808032021, 0.05046922731244829, 0.05767911692851233, 0.021629668848192125, 0.8291373058473648, 0.9517258864442064, 0.9688002292594621, 0.9887573654479929, 0.37819917527760494, 0.5943129897219506, 0.33209974368551265, 0.4749026334702831, 0.16937086927961145, 0.01992598462113076, 0.22292960908506596, 0.5162580420917317, 0.14079764784319954, 0.06648777814817756, 0.050843595054488724, 0.0229692255312127, 0.8957997957172954, 0.0459384510624254, 0.0229692255312127, 0.9491411756060593, 0.06091897156583754, 0.12183794313167508, 0.8122529542111672, 0.017710029160661334, 0.9386315455150507, 0.017710029160661334, 0.10888282802069538, 0.7621797961448676, 0.006805176751293461, 0.1224931815232823, 0.017283497863414356, 0.05185049359024307, 0.9333088846243752, 0.24022024630858207, 0.4373240381515212, 0.04311645446564294, 0.049275947960734784, 0.22790125931839839, 0.27104302401460656, 0.1025568198974187, 0.2197646140658972, 0.04029017924541449, 0.36627435677649534, 0.9666110806438104, 0.2436034495916341, 0.10591454330071048, 0.5401641708336234, 0.11121027046574601, 0.9570291314565134, 0.13240572769611625, 0.13240572769611625, 0.7355873760895347, 0.09366222854621177, 0.0842960056915906, 0.7680302740789365, 0.028098668563863533, 0.028098668563863533, 0.974159335084903, 0.03639508390049877, 0.018197541950249384, 0.03639508390049877, 0.8916795555622198, 0.5725701122719187, 0.022902804490876744, 0.14886822919069884, 0.2519308493996442, 0.968810449207492, 0.2503359005466261, 0.34661893921840536, 0.23878193590601257, 0.011553964640613512, 0.15405286187484682, 0.11726942414147382, 0.2501747715018108, 0.46125973495646366, 0.007817961609431587, 0.16026821299334754, 0.024098589710793997, 0.09639435884317599, 0.8675492295885839, 0.9713210155053549, 0.9740997821452452, 0.04939817702106703, 0.04939817702106703, 0.8891671863792066, 0.06418903495633789, 0.8665519719105614, 0.06418903495633789, 0.05912867260196981, 0.07391084075246226, 0.21434143818214055, 0.6504153986216679], \"Term\": [\"000\", \"000\", \"000\", \"000\", \"000\", \"1960\", \"1960\", \"1960\", \"63\", \"63\", \"academic\", \"academic\", \"accommodate\", \"accommodate\", \"act\", \"act\", \"act\", \"act\", \"activities\", \"activities\", \"activities\", \"administration\", \"administration\", \"administration\", \"alexander\", \"alexander\", \"amateur\", \"american\", \"american\", \"american\", \"american\", \"american\", \"area\", \"area\", \"area\", \"area\", \"area\", \"asked\", \"asked\", \"asked\", \"asked\", \"asked\", \"assessment\", \"assessment\", \"aug\", \"available\", \"available\", \"available\", \"available\", \"available\", \"away\", \"away\", \"away\", \"away\", \"baby\", \"baby\", \"ball\", \"ball\", \"baseball\", \"bat\", \"battery\", \"battery\", \"bed\", \"bed\", \"bed\", \"berlin\", \"best\", \"best\", \"best\", \"best\", \"best\", \"better\", \"better\", \"better\", \"better\", \"better\", \"blocks\", \"blocks\", \"blocks\", \"board\", \"board\", \"board\", \"board\", \"board\", \"boat\", \"boat\", \"boat\", \"boat\", \"boats\", \"boats\", \"boats\", \"bob\", \"bob\", \"bombs\", \"boy\", \"boy\", \"boy\", \"bridge\", \"bridge\", \"business\", \"business\", \"business\", \"business\", \"business\", \"came\", \"came\", \"came\", \"came\", \"castro\", \"catastrophe\", \"catastrophe\", \"cattle\", \"cattle\", \"cattle\", \"center\", \"center\", \"center\", \"center\", \"charlie\", \"charter\", \"chemical\", \"chemical\", \"chemical\", \"chest\", \"chest\", \"child\", \"child\", \"child\", \"child\", \"city\", \"city\", \"city\", \"city\", \"city\", \"claim\", \"claim\", \"claim\", \"claims\", \"claims\", \"claims\", \"claims\", \"class\", \"class\", \"class\", \"class\", \"class\", \"clay\", \"clay\", \"clay\", \"clay\", \"club\", \"club\", \"club\", \"club\", \"coach\", \"college\", \"college\", \"college\", \"college\", \"college\", \"come\", \"come\", \"come\", \"come\", \"come\", \"committee\", \"committee\", \"committee\", \"communism\", \"communist\", \"communist\", \"communist\", \"communists\", \"company\", \"company\", \"company\", \"company\", \"company\", \"comprehensive\", \"concrete\", \"concrete\", \"concrete\", \"congo\", \"conversion\", \"conversion\", \"conversion\", \"cooling\", \"cooling\", \"cooling\", \"corps\", \"corps\", \"corps\", \"couldn\", \"couldn\", \"couldn\", \"council\", \"council\", \"council\", \"council\", \"county\", \"county\", \"court\", \"court\", \"court\", \"court\", \"coverage\", \"coverage\", \"creative\", \"creative\", \"credit\", \"credit\", \"credit\", \"credit\", \"cuba\", \"curriculum\", \"cut\", \"cut\", \"cut\", \"cut\", \"dad\", \"daily\", \"daily\", \"daily\", \"day\", \"day\", \"day\", \"day\", \"day\", \"dear\", \"democratic\", \"democratic\", \"democrats\", \"department\", \"department\", \"department\", \"department\", \"depreciation\", \"designers\", \"development\", \"development\", \"development\", \"development\", \"didn\", \"didn\", \"didn\", \"didn\", \"don\", \"don\", \"don\", \"don\", \"don\", \"door\", \"door\", \"door\", \"door\", \"drill\", \"drill\", \"drill\", \"east\", \"east\", \"east\", \"east\", \"educated\", \"election\", \"election\", \"electricity\", \"electricity\", \"electricity\", \"employee\", \"engine\", \"engine\", \"engine\", \"engine\", \"engine\", \"engineers\", \"engineers\", \"engineers\", \"evaluation\", \"exceed\", \"exceed\", \"expenditures\", \"expenditures\", \"eyes\", \"eyes\", \"eyes\", \"eyes\", \"faculty\", \"faculty\", \"farm\", \"farm\", \"farm\", \"farm\", \"farmers\", \"farmers\", \"father\", \"father\", \"father\", \"favorite\", \"feed\", \"feed\", \"feed\", \"felt\", \"felt\", \"felt\", \"felt\", \"fig\", \"fig\", \"fiscal\", \"fiscal\", \"fishing\", \"fishing\", \"football\", \"football\", \"forests\", \"fountain\", \"frame\", \"frame\", \"frame\", \"gallery\", \"game\", \"game\", \"game\", \"game\", \"game\", \"games\", \"games\", \"gen\", \"general\", \"general\", \"general\", \"general\", \"general\", \"georgia\", \"georgia\", \"girl\", \"girl\", \"girl\", \"god\", \"god\", \"going\", \"going\", \"going\", \"going\", \"golf\", \"golf\", \"good\", \"good\", \"good\", \"good\", \"good\", \"got\", \"got\", \"got\", \"government\", \"government\", \"government\", \"government\", \"green\", \"green\", \"green\", \"hadn\", \"hair\", \"hair\", \"handsome\", \"head\", \"head\", \"head\", \"head\", \"head\", \"hearing\", \"hearing\", \"hearing\", \"heel\", \"hell\", \"high\", \"high\", \"high\", \"high\", \"high\", \"hit\", \"hit\", \"hit\", \"hits\", \"hole\", \"hole\", \"holes\", \"home\", \"home\", \"home\", \"home\", \"home\", \"homer\", \"house\", \"house\", \"house\", \"house\", \"house\", \"hughes\", \"import\", \"import\", \"important\", \"important\", \"important\", \"important\", \"important\", \"imports\", \"inch\", \"inch\", \"inch\", \"india\", \"india\", \"industrial\", \"industrial\", \"industrial\", \"industrial\", \"interest\", \"interest\", \"interest\", \"interest\", \"interest\", \"interference\", \"interference\", \"interference\", \"interior\", \"interior\", \"inventory\", \"island\", \"island\", \"island\", \"island\", \"island\", \"john\", \"john\", \"john\", \"john\", \"john\", \"junior\", \"junior\", \"junior\", \"junior\", \"jury\", \"jury\", \"katanga\", \"kennedy\", \"kennedy\", \"khrushchev\", \"knew\", \"knew\", \"knew\", \"knew\", \"know\", \"know\", \"know\", \"know\", \"know\", \"laboratories\", \"laos\", \"laughed\", \"laws\", \"laws\", \"laws\", \"leader\", \"leader\", \"league\", \"league\", \"league\", \"league\", \"left\", \"left\", \"left\", \"left\", \"left\", \"leg\", \"let\", \"let\", \"let\", \"let\", \"let\", \"library\", \"library\", \"life\", \"life\", \"life\", \"life\", \"life\", \"liked\", \"lips\", \"listening\", \"little\", \"little\", \"little\", \"little\", \"little\", \"ll\", \"ll\", \"ll\", \"ll\", \"loans\", \"loans\", \"loans\", \"local\", \"local\", \"local\", \"local\", \"locations\", \"look\", \"look\", \"look\", \"look\", \"look\", \"looked\", \"looked\", \"looked\", \"love\", \"love\", \"love\", \"loved\", \"maintain\", \"maintain\", \"man\", \"man\", \"man\", \"man\", \"management\", \"management\", \"management\", \"management\", \"manufactured\", \"manufactured\", \"mayor\", \"mayor\", \"medical\", \"medical\", \"medical\", \"medical\", \"meeting\", \"meeting\", \"meeting\", \"meeting\", \"meeting\", \"members\", \"members\", \"members\", \"members\", \"military\", \"military\", \"military\", \"military\", \"moscow\", \"mother\", \"mother\", \"motors\", \"motors\", \"mr\", \"mr\", \"mr\", \"mr\", \"mr\", \"mrs\", \"mrs\", \"mrs\", \"musical\", \"national\", \"national\", \"national\", \"national\", \"national\", \"nations\", \"nations\", \"night\", \"night\", \"night\", \"night\", \"nodded\", \"nuclear\", \"officer\", \"officer\", \"officer\", \"officer\", \"old\", \"old\", \"old\", \"old\", \"organizations\", \"organizations\", \"organizations\", \"paint\", \"paintings\", \"pale\", \"panels\", \"participation\", \"party\", \"party\", \"party\", \"people\", \"people\", \"people\", \"people\", \"people\", \"period\", \"period\", \"period\", \"period\", \"period\", \"piece\", \"piece\", \"piece\", \"pieces\", \"pieces\", \"pieces\", \"pitcher\", \"pitching\", \"pittsburgh\", \"place\", \"place\", \"place\", \"place\", \"place\", \"planning\", \"planning\", \"planning\", \"plant\", \"plant\", \"plant\", \"plant\", \"plant\", \"plastic\", \"plastic\", \"play\", \"play\", \"play\", \"play\", \"play\", \"player\", \"playing\", \"playing\", \"playing\", \"playing\", \"police\", \"police\", \"policy\", \"policy\", \"policy\", \"policy\", \"political\", \"political\", \"political\", \"pool\", \"pool\", \"pound\", \"pound\", \"premier\", \"president\", \"president\", \"president\", \"president\", \"president\", \"producers\", \"production\", \"production\", \"production\", \"production\", \"program\", \"program\", \"program\", \"projects\", \"projects\", \"projects\", \"property\", \"property\", \"property\", \"property\", \"public\", \"public\", \"public\", \"public\", \"publications\", \"published\", \"published\", \"puerto\", \"puerto\", \"ratio\", \"ratio\", \"rayburn\", \"rayburn\", \"recommendation\", \"recreation\", \"recreation\", \"report\", \"report\", \"report\", \"report\", \"report\", \"republican\", \"republicans\", \"research\", \"research\", \"research\", \"research\", \"resources\", \"resources\", \"respect\", \"respect\", \"respect\", \"respect\", \"respect\", \"rhode\", \"rhode\", \"rhode\", \"rhode\", \"rico\", \"rico\", \"right\", \"right\", \"right\", \"right\", \"right\", \"roy\", \"roy\", \"run\", \"run\", \"run\", \"run\", \"run\", \"runs\", \"runs\", \"russia\", \"russia\", \"ruth\", \"said\", \"said\", \"said\", \"said\", \"said\", \"sat\", \"sat\", \"sat\", \"school\", \"school\", \"school\", \"school\", \"season\", \"season\", \"season\", \"second\", \"second\", \"second\", \"second\", \"second\", \"secretary\", \"secretary\", \"secretary\", \"secretary\", \"sen\", \"senate\", \"senate\", \"service\", \"service\", \"service\", \"service\", \"service\", \"services\", \"services\", \"services\", \"services\", \"set\", \"set\", \"set\", \"set\", \"set\", \"shall\", \"shall\", \"shall\", \"shall\", \"shall\", \"shelter\", \"shelter\", \"shoes\", \"sick\", \"signs\", \"signs\", \"silent\", \"site\", \"site\", \"site\", \"small\", \"small\", \"small\", \"small\", \"small\", \"smile\", \"smiled\", \"soviet\", \"stadium\", \"stared\", \"state\", \"state\", \"state\", \"state\", \"state\", \"states\", \"states\", \"states\", \"states\", \"stations\", \"stations\", \"stock\", \"stock\", \"stock\", \"stock\", \"stock\", \"stockholders\", \"stockholders\", \"stood\", \"stood\", \"strange\", \"susan\", \"susan\", \"system\", \"system\", \"system\", \"system\", \"system\", \"tangible\", \"tangible\", \"tax\", \"tax\", \"tax\", \"tax\", \"team\", \"team\", \"technical\", \"technical\", \"technical\", \"textile\", \"thereof\", \"thing\", \"thing\", \"thing\", \"thing\", \"thing\", \"think\", \"think\", \"think\", \"think\", \"think\", \"thought\", \"thought\", \"thought\", \"thought\", \"thought\", \"till\", \"tongue\", \"troops\", \"trust\", \"trust\", \"united\", \"united\", \"united\", \"united\", \"use\", \"use\", \"use\", \"use\", \"use\", \"vehicles\", \"vehicles\", \"vehicles\", \"vehicles\", \"vernon\", \"voice\", \"voice\", \"voice\", \"vote\", \"vote\", \"vote\", \"war\", \"war\", \"war\", \"war\", \"wasn\", \"wasn\", \"wasn\", \"water\", \"water\", \"water\", \"water\", \"water\", \"way\", \"way\", \"way\", \"way\", \"way\", \"weapons\", \"week\", \"week\", \"week\", \"week\", \"welfare\", \"went\", \"went\", \"went\", \"west\", \"west\", \"west\", \"west\", \"west\", \"willie\", \"woman\", \"woman\", \"woman\", \"woman\", \"won\", \"won\", \"won\", \"won\", \"wondered\", \"work\", \"work\", \"work\", \"work\", \"work\", \"world\", \"world\", \"world\", \"world\", \"world\", \"wouldn\", \"wouldn\", \"wouldn\", \"yankees\", \"yards\", \"yes\", \"yes\", \"yes\", \"yesterday\", \"yesterday\", \"yesterday\", \"young\", \"young\", \"young\", \"young\"]}, \"R\": 30, \"lambda.step\": 0.01, \"plot.opts\": {\"xlab\": \"PC1\", \"ylab\": \"PC2\"}, \"topic.order\": [1, 2, 3, 4, 5]};\n",
              "\n",
              "function LDAvis_load_lib(url, callback){\n",
              "  var s = document.createElement('script');\n",
              "  s.src = url;\n",
              "  s.async = true;\n",
              "  s.onreadystatechange = s.onload = callback;\n",
              "  s.onerror = function(){console.warn(\"failed to load library \" + url);};\n",
              "  document.getElementsByTagName(\"head\")[0].appendChild(s);\n",
              "}\n",
              "\n",
              "if(typeof(LDAvis) !== \"undefined\"){\n",
              "   // already loaded: just create the visualization\n",
              "   !function(LDAvis){\n",
              "       new LDAvis(\"#\" + \"ldavis_el7081379260465501604425862309\", ldavis_el7081379260465501604425862309_data);\n",
              "   }(LDAvis);\n",
              "}else if(typeof define === \"function\" && define.amd){\n",
              "   // require.js is available: use it to load d3/LDAvis\n",
              "   require.config({paths: {d3: \"https://d3js.org/d3.v5\"}});\n",
              "   require([\"d3\"], function(d3){\n",
              "      window.d3 = d3;\n",
              "      LDAvis_load_lib(\"https://cdn.jsdelivr.net/gh/bmabey/pyLDAvis@3.4.0/pyLDAvis/js/ldavis.v3.0.0.js\", function(){\n",
              "        new LDAvis(\"#\" + \"ldavis_el7081379260465501604425862309\", ldavis_el7081379260465501604425862309_data);\n",
              "      });\n",
              "    });\n",
              "}else{\n",
              "    // require.js not available: dynamically load d3 & LDAvis\n",
              "    LDAvis_load_lib(\"https://d3js.org/d3.v5.js\", function(){\n",
              "         LDAvis_load_lib(\"https://cdn.jsdelivr.net/gh/bmabey/pyLDAvis@3.4.0/pyLDAvis/js/ldavis.v3.0.0.js\", function(){\n",
              "                 new LDAvis(\"#\" + \"ldavis_el7081379260465501604425862309\", ldavis_el7081379260465501604425862309_data);\n",
              "            })\n",
              "         });\n",
              "}\n",
              "</script>"
            ]
          },
          "metadata": {},
          "execution_count": 46
        }
      ],
      "source": [
        "pyLDAvis.display(lda_display)"
      ]
    },
    {
      "cell_type": "markdown",
      "id": "a3d14c87",
      "metadata": {
        "id": "a3d14c87"
      },
      "source": [
        "Q: What conclusions do you draw from the visualization above? Please address the principal component scatterplot and the salient terms graph.\n",
        "\n",
        "A: My conclusions are as follows:\n",
        "\n",
        "* Topics 1 and 5 have good differentiation from the other topics, but 2, 3, and 4 are less differentiated. 2 and 3 are closed and have some overlap. 4 is almost completely inside 2.\n",
        "* Given the above, we see (and it makes sense that) the Top 30 Most Salient Terms has a lot of overlap with the Top 30 Most Relevant Terms for Topics 2-4 as those 3 share a lot of common terms. However, the Top 30 Most Relevant Terms for Topics 1 and 5 are fairly different (except \"said\" which is the top term for Topic 5 and the Top 30 overall most relevant terms).\n",
        "* The top 30 terms for Topic 1 seem sports related still (as earlier noted, Topic 0 above = Topic 1 here), with terms like home, game, ball, won, etc.\n",
        "* The top 30 terms for Topic 5 seem quite random, with many of the words being common English words overall and thus not being too distinctive. The words include come, came, know, thought, man, etc, all of which are quite general words.\n",
        "* The top 30 terms for Topics 2 - 4 seem related to government, including terms such as \"state\", \"tax\", \"government\" itself, \"united\" and \"states.\" The lack of clear differentiation between the three topics on the graph is representative of the lack of clear differentiation between the top 30 terms for each topic.\n",
        "\n",
        "*Note:* The visualization is not displaying on Github properly, so a screenshot of the intertopic distance map and overall term frequency are included in the Github repo.  \n"
      ]
    }
  ],
  "metadata": {
    "kernelspec": {
      "display_name": "Python 3 (ipykernel)",
      "language": "python",
      "name": "python3"
    },
    "language_info": {
      "codemirror_mode": {
        "name": "ipython",
        "version": 3
      },
      "file_extension": ".py",
      "mimetype": "text/x-python",
      "name": "python",
      "nbconvert_exporter": "python",
      "pygments_lexer": "ipython3",
      "version": "3.9.13"
    },
    "colab": {
      "provenance": []
    }
  },
  "nbformat": 4,
  "nbformat_minor": 5
}